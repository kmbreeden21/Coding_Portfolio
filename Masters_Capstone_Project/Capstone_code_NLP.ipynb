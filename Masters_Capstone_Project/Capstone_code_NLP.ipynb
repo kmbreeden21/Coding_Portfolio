{
 "cells": [
  {
   "cell_type": "code",
   "execution_count": 1,
   "metadata": {},
   "outputs": [],
   "source": [
    "import sys\n",
    "import jupyter\n",
    "from IPython.display import display \n",
    "from IPython.display import HTML"
   ]
  },
  {
   "cell_type": "code",
   "execution_count": 2,
   "metadata": {},
   "outputs": [],
   "source": [
    "import pandas as pd\n",
    "import numpy as np\n",
    "import matplotlib.pyplot as plt\n",
    "import seaborn as sea"
   ]
  },
  {
   "cell_type": "code",
   "execution_count": 3,
   "metadata": {},
   "outputs": [],
   "source": [
    "import warnings\n",
    "warnings.filterwarnings(\"ignore\", category=DeprecationWarning)"
   ]
  },
  {
   "cell_type": "code",
   "execution_count": 4,
   "metadata": {},
   "outputs": [
    {
     "name": "stderr",
     "output_type": "stream",
     "text": [
      "/Users/kirabreeden/opt/anaconda3/lib/python3.7/site-packages/tensorflow/python/framework/dtypes.py:516: FutureWarning: Passing (type, 1) or '1type' as a synonym of type is deprecated; in a future version of numpy, it will be understood as (type, (1,)) / '(1,)type'.\n",
      "  _np_qint8 = np.dtype([(\"qint8\", np.int8, 1)])\n",
      "/Users/kirabreeden/opt/anaconda3/lib/python3.7/site-packages/tensorflow/python/framework/dtypes.py:517: FutureWarning: Passing (type, 1) or '1type' as a synonym of type is deprecated; in a future version of numpy, it will be understood as (type, (1,)) / '(1,)type'.\n",
      "  _np_quint8 = np.dtype([(\"quint8\", np.uint8, 1)])\n",
      "/Users/kirabreeden/opt/anaconda3/lib/python3.7/site-packages/tensorflow/python/framework/dtypes.py:518: FutureWarning: Passing (type, 1) or '1type' as a synonym of type is deprecated; in a future version of numpy, it will be understood as (type, (1,)) / '(1,)type'.\n",
      "  _np_qint16 = np.dtype([(\"qint16\", np.int16, 1)])\n",
      "/Users/kirabreeden/opt/anaconda3/lib/python3.7/site-packages/tensorflow/python/framework/dtypes.py:519: FutureWarning: Passing (type, 1) or '1type' as a synonym of type is deprecated; in a future version of numpy, it will be understood as (type, (1,)) / '(1,)type'.\n",
      "  _np_quint16 = np.dtype([(\"quint16\", np.uint16, 1)])\n",
      "/Users/kirabreeden/opt/anaconda3/lib/python3.7/site-packages/tensorflow/python/framework/dtypes.py:520: FutureWarning: Passing (type, 1) or '1type' as a synonym of type is deprecated; in a future version of numpy, it will be understood as (type, (1,)) / '(1,)type'.\n",
      "  _np_qint32 = np.dtype([(\"qint32\", np.int32, 1)])\n",
      "/Users/kirabreeden/opt/anaconda3/lib/python3.7/site-packages/tensorflow/python/framework/dtypes.py:525: FutureWarning: Passing (type, 1) or '1type' as a synonym of type is deprecated; in a future version of numpy, it will be understood as (type, (1,)) / '(1,)type'.\n",
      "  np_resource = np.dtype([(\"resource\", np.ubyte, 1)])\n",
      "/Users/kirabreeden/opt/anaconda3/lib/python3.7/site-packages/tensorboard/compat/tensorflow_stub/dtypes.py:541: FutureWarning: Passing (type, 1) or '1type' as a synonym of type is deprecated; in a future version of numpy, it will be understood as (type, (1,)) / '(1,)type'.\n",
      "  _np_qint8 = np.dtype([(\"qint8\", np.int8, 1)])\n",
      "/Users/kirabreeden/opt/anaconda3/lib/python3.7/site-packages/tensorboard/compat/tensorflow_stub/dtypes.py:542: FutureWarning: Passing (type, 1) or '1type' as a synonym of type is deprecated; in a future version of numpy, it will be understood as (type, (1,)) / '(1,)type'.\n",
      "  _np_quint8 = np.dtype([(\"quint8\", np.uint8, 1)])\n",
      "/Users/kirabreeden/opt/anaconda3/lib/python3.7/site-packages/tensorboard/compat/tensorflow_stub/dtypes.py:543: FutureWarning: Passing (type, 1) or '1type' as a synonym of type is deprecated; in a future version of numpy, it will be understood as (type, (1,)) / '(1,)type'.\n",
      "  _np_qint16 = np.dtype([(\"qint16\", np.int16, 1)])\n",
      "/Users/kirabreeden/opt/anaconda3/lib/python3.7/site-packages/tensorboard/compat/tensorflow_stub/dtypes.py:544: FutureWarning: Passing (type, 1) or '1type' as a synonym of type is deprecated; in a future version of numpy, it will be understood as (type, (1,)) / '(1,)type'.\n",
      "  _np_quint16 = np.dtype([(\"quint16\", np.uint16, 1)])\n",
      "/Users/kirabreeden/opt/anaconda3/lib/python3.7/site-packages/tensorboard/compat/tensorflow_stub/dtypes.py:545: FutureWarning: Passing (type, 1) or '1type' as a synonym of type is deprecated; in a future version of numpy, it will be understood as (type, (1,)) / '(1,)type'.\n",
      "  _np_qint32 = np.dtype([(\"qint32\", np.int32, 1)])\n",
      "/Users/kirabreeden/opt/anaconda3/lib/python3.7/site-packages/tensorboard/compat/tensorflow_stub/dtypes.py:550: FutureWarning: Passing (type, 1) or '1type' as a synonym of type is deprecated; in a future version of numpy, it will be understood as (type, (1,)) / '(1,)type'.\n",
      "  np_resource = np.dtype([(\"resource\", np.ubyte, 1)])\n"
     ]
    }
   ],
   "source": [
    "from sklearn.model_selection import train_test_split\n",
    "from sklearn.metrics import mean_squared_error, r2_score\n",
    "from datetime import datetime\n",
    "import tensorflow as tf\n",
    "from tensorflow import keras\n",
    "from tensorflow.keras import layers\n",
    "from sklearn.preprocessing import MinMaxScaler\n",
    "from sklearn.preprocessing import OneHotEncoder\n",
    "from tensorflow import set_random_seed\n",
    "from tensorflow.keras.optimizers import RMSprop\n",
    "\n",
    "set_random_seed(2)"
   ]
  },
  {
   "cell_type": "markdown",
   "metadata": {},
   "source": [
    "# Read Dataset and Subsection into a Useful Dataframe"
   ]
  },
  {
   "cell_type": "code",
   "execution_count": 5,
   "metadata": {},
   "outputs": [
    {
     "name": "stderr",
     "output_type": "stream",
     "text": [
      "/Users/kirabreeden/opt/anaconda3/lib/python3.7/site-packages/IPython/core/interactiveshell.py:3058: DtypeWarning: Columns (9,10,12,13,14,16,18,19,21,22,23,24,25,26,28,29,30,32,33,34,36,37,38,39,40,42,45,46,47,48,50,51,52,53,54,55,57,63,64,65,66,68,69,173,175,176,224,227,233,234,235,236,242,264,265,267,268,269,270) have mixed types. Specify dtype option on import or set low_memory=False.\n",
      "  interactivity=interactivity, compiler=compiler, result=result)\n"
     ]
    }
   ],
   "source": [
    "#reading cdc health and wellness dataset\n",
    "#sourced from\n",
    "data = pd.read_csv(\"LLCP2019.csv\")"
   ]
  },
  {
   "cell_type": "code",
   "execution_count": 6,
   "metadata": {},
   "outputs": [
    {
     "data": {
      "text/html": [
       "<div>\n",
       "<style scoped>\n",
       "    .dataframe tbody tr th:only-of-type {\n",
       "        vertical-align: middle;\n",
       "    }\n",
       "\n",
       "    .dataframe tbody tr th {\n",
       "        vertical-align: top;\n",
       "    }\n",
       "\n",
       "    .dataframe thead th {\n",
       "        text-align: right;\n",
       "    }\n",
       "</style>\n",
       "<table border=\"1\" class=\"dataframe\">\n",
       "  <thead>\n",
       "    <tr style=\"text-align: right;\">\n",
       "      <th></th>\n",
       "      <th>_STATE</th>\n",
       "      <th>FMONTH</th>\n",
       "      <th>IDATE</th>\n",
       "      <th>IMONTH</th>\n",
       "      <th>IDAY</th>\n",
       "      <th>IYEAR</th>\n",
       "      <th>DISPCODE</th>\n",
       "      <th>SEQNO</th>\n",
       "      <th>_PSU</th>\n",
       "      <th>CTELENM1</th>\n",
       "      <th>...</th>\n",
       "      <th>_VEGESU1</th>\n",
       "      <th>_FRTLT1A</th>\n",
       "      <th>_VEGLT1A</th>\n",
       "      <th>_FRT16A</th>\n",
       "      <th>_VEG23A</th>\n",
       "      <th>_FRUITE1</th>\n",
       "      <th>_VEGETE1</th>\n",
       "      <th>_FLSHOT7</th>\n",
       "      <th>_PNEUMO3</th>\n",
       "      <th>_AIDTST4</th>\n",
       "    </tr>\n",
       "  </thead>\n",
       "  <tbody>\n",
       "    <tr>\n",
       "      <td>0</td>\n",
       "      <td>1</td>\n",
       "      <td>1</td>\n",
       "      <td>1182019</td>\n",
       "      <td>1</td>\n",
       "      <td>18</td>\n",
       "      <td>2019</td>\n",
       "      <td>1100</td>\n",
       "      <td>2019000001</td>\n",
       "      <td>2019000001</td>\n",
       "      <td>1</td>\n",
       "      <td>...</td>\n",
       "      <td>114</td>\n",
       "      <td>1</td>\n",
       "      <td>1</td>\n",
       "      <td>1</td>\n",
       "      <td>1</td>\n",
       "      <td>0</td>\n",
       "      <td>0</td>\n",
       "      <td>2</td>\n",
       "      <td>1</td>\n",
       "      <td>2</td>\n",
       "    </tr>\n",
       "    <tr>\n",
       "      <td>1</td>\n",
       "      <td>1</td>\n",
       "      <td>1</td>\n",
       "      <td>1132019</td>\n",
       "      <td>1</td>\n",
       "      <td>13</td>\n",
       "      <td>2019</td>\n",
       "      <td>1100</td>\n",
       "      <td>2019000002</td>\n",
       "      <td>2019000002</td>\n",
       "      <td>1</td>\n",
       "      <td>...</td>\n",
       "      <td>121</td>\n",
       "      <td>1</td>\n",
       "      <td>1</td>\n",
       "      <td>1</td>\n",
       "      <td>1</td>\n",
       "      <td>0</td>\n",
       "      <td>0</td>\n",
       "      <td>1</td>\n",
       "      <td>1</td>\n",
       "      <td>2</td>\n",
       "    </tr>\n",
       "    <tr>\n",
       "      <td>2</td>\n",
       "      <td>1</td>\n",
       "      <td>1</td>\n",
       "      <td>1182019</td>\n",
       "      <td>1</td>\n",
       "      <td>18</td>\n",
       "      <td>2019</td>\n",
       "      <td>1100</td>\n",
       "      <td>2019000003</td>\n",
       "      <td>2019000003</td>\n",
       "      <td>1</td>\n",
       "      <td>...</td>\n",
       "      <td>164</td>\n",
       "      <td>1</td>\n",
       "      <td>1</td>\n",
       "      <td>1</td>\n",
       "      <td>1</td>\n",
       "      <td>0</td>\n",
       "      <td>0</td>\n",
       "      <td>1</td>\n",
       "      <td>2</td>\n",
       "      <td>2</td>\n",
       "    </tr>\n",
       "    <tr>\n",
       "      <td>3</td>\n",
       "      <td>1</td>\n",
       "      <td>1</td>\n",
       "      <td>1182019</td>\n",
       "      <td>1</td>\n",
       "      <td>18</td>\n",
       "      <td>2019</td>\n",
       "      <td>1200</td>\n",
       "      <td>2019000004</td>\n",
       "      <td>2019000004</td>\n",
       "      <td>1</td>\n",
       "      <td>...</td>\n",
       "      <td>.</td>\n",
       "      <td>9</td>\n",
       "      <td>9</td>\n",
       "      <td>1</td>\n",
       "      <td>1</td>\n",
       "      <td>1</td>\n",
       "      <td>1</td>\n",
       "      <td>9</td>\n",
       "      <td>9</td>\n",
       "      <td>.</td>\n",
       "    </tr>\n",
       "    <tr>\n",
       "      <td>4</td>\n",
       "      <td>1</td>\n",
       "      <td>1</td>\n",
       "      <td>1042019</td>\n",
       "      <td>1</td>\n",
       "      <td>4</td>\n",
       "      <td>2019</td>\n",
       "      <td>1100</td>\n",
       "      <td>2019000005</td>\n",
       "      <td>2019000005</td>\n",
       "      <td>1</td>\n",
       "      <td>...</td>\n",
       "      <td>178</td>\n",
       "      <td>1</td>\n",
       "      <td>1</td>\n",
       "      <td>1</td>\n",
       "      <td>1</td>\n",
       "      <td>0</td>\n",
       "      <td>0</td>\n",
       "      <td>2</td>\n",
       "      <td>1</td>\n",
       "      <td>2</td>\n",
       "    </tr>\n",
       "  </tbody>\n",
       "</table>\n",
       "<p>5 rows × 342 columns</p>\n",
       "</div>"
      ],
      "text/plain": [
       "   _STATE  FMONTH    IDATE  IMONTH  IDAY  IYEAR  DISPCODE       SEQNO  \\\n",
       "0       1       1  1182019       1    18   2019      1100  2019000001   \n",
       "1       1       1  1132019       1    13   2019      1100  2019000002   \n",
       "2       1       1  1182019       1    18   2019      1100  2019000003   \n",
       "3       1       1  1182019       1    18   2019      1200  2019000004   \n",
       "4       1       1  1042019       1     4   2019      1100  2019000005   \n",
       "\n",
       "         _PSU CTELENM1  ... _VEGESU1 _FRTLT1A _VEGLT1A _FRT16A _VEG23A  \\\n",
       "0  2019000001        1  ...      114        1        1       1       1   \n",
       "1  2019000002        1  ...      121        1        1       1       1   \n",
       "2  2019000003        1  ...      164        1        1       1       1   \n",
       "3  2019000004        1  ...        .        9        9       1       1   \n",
       "4  2019000005        1  ...      178        1        1       1       1   \n",
       "\n",
       "  _FRUITE1 _VEGETE1 _FLSHOT7 _PNEUMO3 _AIDTST4  \n",
       "0        0        0        2        1        2  \n",
       "1        0        0        1        1        2  \n",
       "2        0        0        1        2        2  \n",
       "3        1        1        9        9        .  \n",
       "4        0        0        2        1        2  \n",
       "\n",
       "[5 rows x 342 columns]"
      ]
     },
     "execution_count": 6,
     "metadata": {},
     "output_type": "execute_result"
    }
   ],
   "source": [
    "data.head()"
   ]
  },
  {
   "cell_type": "code",
   "execution_count": 7,
   "metadata": {},
   "outputs": [
    {
     "name": "stdout",
     "output_type": "stream",
     "text": [
      "<class 'pandas.core.frame.DataFrame'>\n",
      "RangeIndex: 392127 entries, 0 to 392126\n",
      "Columns: 342 entries, _STATE to _AIDTST4\n",
      "dtypes: float64(5), int64(62), object(275)\n",
      "memory usage: 1023.2+ MB\n"
     ]
    }
   ],
   "source": [
    "data.info()"
   ]
  },
  {
   "cell_type": "markdown",
   "metadata": {},
   "source": [
    "# Data Preprocessing"
   ]
  },
  {
   "cell_type": "code",
   "execution_count": 8,
   "metadata": {},
   "outputs": [],
   "source": [
    "# in this function we replace \"blanks\" with dummy values of -1000, \n",
    "#   we make sure everything is numeric, we drop rows where there is no info on our label variable, \n",
    "#   and we reassign our label variable to consecutive values\n",
    "\n",
    "def preprocess(dataset, label_col): \n",
    "    dataset = dataset.replace({\".\": \"-1000\"})\n",
    "    dataset = dataset.apply(pd.to_numeric)\n",
    "    dataset.drop(dataset[dataset[label_col] == -1000].index, inplace = True)\n",
    "    dataset[label_col] = dataset[label_col].replace({1: 0, 2: 1, 7: 2, 9: 3})\n",
    "    dataset.drop(dataset[dataset[label_col] == 3].index, inplace = True)\n",
    "    return dataset\n"
   ]
  },
  {
   "cell_type": "code",
   "execution_count": 9,
   "metadata": {},
   "outputs": [],
   "source": [
    "# let's preprocess our original dataset\n",
    "data_orig_clean = preprocess(data, \"ADDEPEV3\")"
   ]
  },
  {
   "cell_type": "markdown",
   "metadata": {},
   "source": [
    "## Correlation Maps to Determine Important Features"
   ]
  },
  {
   "cell_type": "markdown",
   "metadata": {},
   "source": [
    "### Let's Evaluate the ORIGINAL DATASET For Correlations"
   ]
  },
  {
   "cell_type": "code",
   "execution_count": 10,
   "metadata": {},
   "outputs": [
    {
     "data": {
      "text/plain": [
       "ADDEPEV3    1.000000\n",
       "MENTHLTH    0.321096\n",
       "PHYSHLTH    0.179521\n",
       "_SMOKER3    0.108554\n",
       "ASTHMA3     0.101479\n",
       "_INCOMG     0.100051\n",
       "Name: ADDEPEV3, dtype: float64"
      ]
     },
     "execution_count": 10,
     "metadata": {},
     "output_type": "execute_result"
    }
   ],
   "source": [
    "#Let's inspect the exact correlations...\n",
    "corr = data_orig_clean.corr()\n",
    "corr[\"ADDEPEV3\"].sort_values(ascending=False)\n",
    "top_correlations = corr[corr[\"ADDEPEV3\"] >= 0.1]\n",
    "bottom_correlations = corr[corr[\"ADDEPEV3\"] <= -0.1]\n",
    "top_correlations[\"ADDEPEV3\"].sort_values(ascending = False)"
   ]
  },
  {
   "cell_type": "code",
   "execution_count": 11,
   "metadata": {},
   "outputs": [
    {
     "data": {
      "text/plain": [
       "CDDISCUS   -0.106642\n",
       "CDSOCIAL   -0.106665\n",
       "CDHOUSE    -0.106709\n",
       "CDASSIST   -0.106812\n",
       "SMOKDAY2   -0.110649\n",
       "SEXVAR     -0.116216\n",
       "_SEX       -0.116287\n",
       "_PHYS14D   -0.122837\n",
       "STOPSMK2   -0.132412\n",
       "_RFHLTH    -0.137623\n",
       "ASTHNOW    -0.139186\n",
       "LMTJOIN3   -0.142181\n",
       "ARTHDIS2   -0.142183\n",
       "ARTHEXER   -0.142248\n",
       "ARTHEDU    -0.142250\n",
       "JOINPAI2   -0.142574\n",
       "_MENT14D   -0.240257\n",
       "POORHLTH   -0.272491\n",
       "Name: ADDEPEV3, dtype: float64"
      ]
     },
     "execution_count": 11,
     "metadata": {},
     "output_type": "execute_result"
    }
   ],
   "source": [
    "bottom_correlations[\"ADDEPEV3\"].sort_values(ascending = False)"
   ]
  },
  {
   "cell_type": "code",
   "execution_count": 12,
   "metadata": {},
   "outputs": [
    {
     "data": {
      "text/html": [
       "<div>\n",
       "<style scoped>\n",
       "    .dataframe tbody tr th:only-of-type {\n",
       "        vertical-align: middle;\n",
       "    }\n",
       "\n",
       "    .dataframe tbody tr th {\n",
       "        vertical-align: top;\n",
       "    }\n",
       "\n",
       "    .dataframe thead th {\n",
       "        text-align: right;\n",
       "    }\n",
       "</style>\n",
       "<table border=\"1\" class=\"dataframe\">\n",
       "  <thead>\n",
       "    <tr style=\"text-align: right;\">\n",
       "      <th></th>\n",
       "      <th>ADDEPEV3</th>\n",
       "    </tr>\n",
       "  </thead>\n",
       "  <tbody>\n",
       "    <tr>\n",
       "      <td>ADDEPEV3</td>\n",
       "      <td>1.000000</td>\n",
       "    </tr>\n",
       "    <tr>\n",
       "      <td>MENTHLTH</td>\n",
       "      <td>0.321096</td>\n",
       "    </tr>\n",
       "    <tr>\n",
       "      <td>PHYSHLTH</td>\n",
       "      <td>0.179521</td>\n",
       "    </tr>\n",
       "    <tr>\n",
       "      <td>_SMOKER3</td>\n",
       "      <td>0.108554</td>\n",
       "    </tr>\n",
       "    <tr>\n",
       "      <td>ASTHMA3</td>\n",
       "      <td>0.101479</td>\n",
       "    </tr>\n",
       "    <tr>\n",
       "      <td>_INCOMG</td>\n",
       "      <td>0.100051</td>\n",
       "    </tr>\n",
       "    <tr>\n",
       "      <td>CDDISCUS</td>\n",
       "      <td>-0.106642</td>\n",
       "    </tr>\n",
       "    <tr>\n",
       "      <td>CDSOCIAL</td>\n",
       "      <td>-0.106665</td>\n",
       "    </tr>\n",
       "    <tr>\n",
       "      <td>CDHOUSE</td>\n",
       "      <td>-0.106709</td>\n",
       "    </tr>\n",
       "    <tr>\n",
       "      <td>CDASSIST</td>\n",
       "      <td>-0.106812</td>\n",
       "    </tr>\n",
       "    <tr>\n",
       "      <td>SMOKDAY2</td>\n",
       "      <td>-0.110649</td>\n",
       "    </tr>\n",
       "    <tr>\n",
       "      <td>SEXVAR</td>\n",
       "      <td>-0.116216</td>\n",
       "    </tr>\n",
       "    <tr>\n",
       "      <td>_SEX</td>\n",
       "      <td>-0.116287</td>\n",
       "    </tr>\n",
       "    <tr>\n",
       "      <td>_PHYS14D</td>\n",
       "      <td>-0.122837</td>\n",
       "    </tr>\n",
       "    <tr>\n",
       "      <td>STOPSMK2</td>\n",
       "      <td>-0.132412</td>\n",
       "    </tr>\n",
       "    <tr>\n",
       "      <td>_RFHLTH</td>\n",
       "      <td>-0.137623</td>\n",
       "    </tr>\n",
       "    <tr>\n",
       "      <td>ASTHNOW</td>\n",
       "      <td>-0.139186</td>\n",
       "    </tr>\n",
       "    <tr>\n",
       "      <td>LMTJOIN3</td>\n",
       "      <td>-0.142181</td>\n",
       "    </tr>\n",
       "    <tr>\n",
       "      <td>ARTHDIS2</td>\n",
       "      <td>-0.142183</td>\n",
       "    </tr>\n",
       "    <tr>\n",
       "      <td>ARTHEXER</td>\n",
       "      <td>-0.142248</td>\n",
       "    </tr>\n",
       "    <tr>\n",
       "      <td>ARTHEDU</td>\n",
       "      <td>-0.142250</td>\n",
       "    </tr>\n",
       "    <tr>\n",
       "      <td>JOINPAI2</td>\n",
       "      <td>-0.142574</td>\n",
       "    </tr>\n",
       "    <tr>\n",
       "      <td>_MENT14D</td>\n",
       "      <td>-0.240257</td>\n",
       "    </tr>\n",
       "    <tr>\n",
       "      <td>POORHLTH</td>\n",
       "      <td>-0.272491</td>\n",
       "    </tr>\n",
       "  </tbody>\n",
       "</table>\n",
       "</div>"
      ],
      "text/plain": [
       "          ADDEPEV3\n",
       "ADDEPEV3  1.000000\n",
       "MENTHLTH  0.321096\n",
       "PHYSHLTH  0.179521\n",
       "_SMOKER3  0.108554\n",
       "ASTHMA3   0.101479\n",
       "_INCOMG   0.100051\n",
       "CDDISCUS -0.106642\n",
       "CDSOCIAL -0.106665\n",
       "CDHOUSE  -0.106709\n",
       "CDASSIST -0.106812\n",
       "SMOKDAY2 -0.110649\n",
       "SEXVAR   -0.116216\n",
       "_SEX     -0.116287\n",
       "_PHYS14D -0.122837\n",
       "STOPSMK2 -0.132412\n",
       "_RFHLTH  -0.137623\n",
       "ASTHNOW  -0.139186\n",
       "LMTJOIN3 -0.142181\n",
       "ARTHDIS2 -0.142183\n",
       "ARTHEXER -0.142248\n",
       "ARTHEDU  -0.142250\n",
       "JOINPAI2 -0.142574\n",
       "_MENT14D -0.240257\n",
       "POORHLTH -0.272491"
      ]
     },
     "metadata": {},
     "output_type": "display_data"
    }
   ],
   "source": [
    "#this is mostly to make a nice visualization table for the write-up \n",
    "correlations_table = pd.concat([top_correlations[\"ADDEPEV3\"], bottom_correlations[\"ADDEPEV3\"]])\n",
    "correlations_table = correlations_table.to_frame()\n",
    "display(correlations_table.sort_values(by = \"ADDEPEV3\", ascending = False))"
   ]
  },
  {
   "cell_type": "markdown",
   "metadata": {},
   "source": [
    "### We will now assign our dataset that we will use in the future and evaluate the top correlations there. "
   ]
  },
  {
   "cell_type": "code",
   "execution_count": 13,
   "metadata": {},
   "outputs": [],
   "source": [
    "data_use_clean = data_orig_clean[[\"_STATE\", \"CADULT1\", \"PVTRESD3\", \"CCLGHOUS\",\n",
    "                   \"HHADULT\", \"SEXVAR\", \"GENHLTH\", \"PHYSHLTH\", \"MENTHLTH\", \"ASTHMA3\",\n",
    "                   \"POORHLTH\", \"ADDEPEV3\", \"MARITAL\", \"EDUCA\", \"RENTHOM1\", \"_INCOMG\", \n",
    "                   \"VETERAN3\", \"EMPLOY1\", \"CHILDREN\", \"INCOME2\", \"WEIGHT2\",\n",
    "                   \"HEIGHT3\", \"PREGNANT\", \"SMOKE100\", \"SMOKDAY2\", \"STOPSMK2\"\n",
    "                   , \"LASTSMK2\", \"ALCDAY5\", \"AVEDRNK3\", \"DRNK3GE5\"\n",
    "                   , \"MAXDRNKS\", \"EXERANY2\", \"EXRACT11\",\"EXRACT21\", \"EXERHMM2\", \n",
    "                   \"STRENGTH\", \"FRUIT2\", \"FVGREEN1\", \"FRENCHF1\", \"VEGETAB2\",\n",
    "                   \"ACEDEPRS\", \"ACEDRINK\", \"ACEDRUGS\", \"ACEPRISN\", \n",
    "                   \"ACEDIVRC\", \"ACEPUNCH\", \"ACEHURT1\", \"ACESWEAR\", \n",
    "                   \"ACETOUCH\", \"ACETTHEM\", \"ACEHVSEX\", \"MARIJAN1\", \n",
    "                   \"USEMRJN2\", \"RSNMRJN1\", \"FOODSTMP\", \"BIRTHSEX\", \n",
    "                   \"SOMALE\", \"SOFEMALE\", \"TRNSGNDR\", \"DISPCODE\", \"_MENT14D\", \"JOINPAI2\", \"ARTHEDU\", \"_RFHLTH\"]]"
   ]
  },
  {
   "cell_type": "code",
   "execution_count": 14,
   "metadata": {},
   "outputs": [
    {
     "data": {
      "text/plain": [
       "(391672, 64)"
      ]
     },
     "execution_count": 14,
     "metadata": {},
     "output_type": "execute_result"
    }
   ],
   "source": [
    "data_use_clean.shape"
   ]
  },
  {
   "cell_type": "code",
   "execution_count": 15,
   "metadata": {},
   "outputs": [],
   "source": [
    "data_use_clean = data_use_clean.rename(columns = {\"_STATE\": \"State\", \"CADULT1\": \"Adult\", \"PVTRESD3\": \"Private_Residence\", \"CCLGHOUS\": \"College_Housing\",\n",
    "                   \"HHADULT\": \"Num_Adults_in_House\", \"SEXVAR\": \"Sex\", \"ASTHMA3\": \"Hist_Asthma\", \"ADDEPEV3\": \"History_Depressive_Disorder\", \"RENTHOM1\": \"Rent_home\",\n",
    "                   \"VETERAN3\": \"Veteran\", \"EMPLOY1\": \"Employment_Status\", \"SMOKE100\": \"Have_Smoked_100_Cigs\", \"SMOKDAY2\": \"Freq_Days_Smoking\", \"STOPSMK2\": \"Stopped_Smoke_last_1_Months\", \n",
    "                   \"LASTSMK2\": \"Interval_Since_Last_Smoke\", \"ALCDAY5\": \"Days_in_Last_30_Had_Alcohol\", \"AVEDRNK3\": \"Avg_Drinks_Per_Day\", \"DRNK3GE5\": \"Num_Times_Bingge_Drink\", \"EXERANY2\": \"Exercise_Past_30_Days\", \n",
    "                   \"EXRACT11\": \"Type_Physical_Activity\", \"EXRACT21\": \"Other_Type_Exercise\", \"STRENGTH\": \"Num_Strength_Exercises\", \"FRUIT2\": \"Times_Ate_Fruit\", \"FVGREEN1\": \"Times_Ate_Dark_Green_Veggies\", \n",
    "                   \"FRENCHF1\": \"Fries\", \"VEGETAB2\": \"Other Vegetables\", \"ACEDEPRS\": \"Live with person Depressed\", \"ACEDRINK\": \"Live with Person Who Drinks\", \"ACEDRUGS\": \"Live With Person Who Does Drugs\", \n",
    "                   \"ACEPRISN\": \"Live_With_Person_Been_Imprisoned\", \"ACEDIVRC\": \"Parents_divorced?\", \"ACEPUNCH\": \"Freq_of_Parental_Violence\", \"ACEHURT1\": \"Freq_of_violence_to_you\", \"ACESWEAR\": \"Freq_Parents_Swearing\", \n",
    "                   \"ACETOUCH\": \"Freq_Sexual_Touch\", \"ACETTHEM\": \"Freq_Sexual_Touch_to_Them\", \"ACEHVSEX\": \"Freq_Forced_Sex\", \"MARIJAN1\": \"Freq_Marijuana_last_30_days\", \n",
    "                   \"USEMRJN2\": \"Freq_Primary_Marijuana\", \"RSNMRJN1\": \"Reason_for_Marijuana\", \"_MENT14D\": \"Days with Depression\"})"
   ]
  },
  {
   "cell_type": "markdown",
   "metadata": {},
   "source": [
    "## Feature Engineering"
   ]
  },
  {
   "cell_type": "code",
   "execution_count": 16,
   "metadata": {},
   "outputs": [],
   "source": [
    "#initialize columns \n",
    "data_use_clean[\"Stressful_life_event\"] = 0\n",
    "data_use_clean[\"Persisting_Health_Issue\"] = 0"
   ]
  },
  {
   "cell_type": "code",
   "execution_count": 17,
   "metadata": {},
   "outputs": [],
   "source": [
    "#let's see if we can add a binary variable determining if the person has had a previous stressful event in their life \n",
    "for ind, i in data_use_clean.iterrows(): \n",
    "    if (i[\"Freq_Sexual_Touch\"] >= 2) or (i[\"Freq_Sexual_Touch_to_Them\"] >= 2) or (i[\"Freq_Forced_Sex\"] >= 2) or (i[\"Freq_of_violence_to_you\"] >= 3) or (i[\"Freq_of_Parental_Violence\"] >= 3) or (i[\"Parents_divorced?\"] == 1): #poor health\n",
    "        i[\"Stressful_life_event\"] = 1    \n",
    "    else: \n",
    "        i[\"Stressful_life_event\"] = 0\n"
   ]
  },
  {
   "cell_type": "code",
   "execution_count": null,
   "metadata": {},
   "outputs": [],
   "source": []
  },
  {
   "cell_type": "code",
   "execution_count": 18,
   "metadata": {},
   "outputs": [],
   "source": [
    "#let's also add a feature aggregating any persisting medical issue. \n",
    "# index, row in df.iterrows():\n",
    "for ind, i in data_use_clean.iterrows(): \n",
    "    if (i[\"_RFHLTH\"] == 2) or (i[\"ARTHEDU\"] == 2) or (i[\"JOINPAI2\"] >= 5) or (i[\"POORHLTH\"] >= 15) or (i[\"Hist_Asthma\"] == 1): #poor health\n",
    "        i[\"Persisting_Health_Issue\"] = 1\n",
    "    else: \n",
    "        i[\"Persisting_Health_Issue\"] = 0"
   ]
  },
  {
   "cell_type": "code",
   "execution_count": 19,
   "metadata": {},
   "outputs": [
    {
     "data": {
      "text/html": [
       "<div>\n",
       "<style scoped>\n",
       "    .dataframe tbody tr th:only-of-type {\n",
       "        vertical-align: middle;\n",
       "    }\n",
       "\n",
       "    .dataframe tbody tr th {\n",
       "        vertical-align: top;\n",
       "    }\n",
       "\n",
       "    .dataframe thead th {\n",
       "        text-align: right;\n",
       "    }\n",
       "</style>\n",
       "<table border=\"1\" class=\"dataframe\">\n",
       "  <thead>\n",
       "    <tr style=\"text-align: right;\">\n",
       "      <th></th>\n",
       "      <th>State</th>\n",
       "      <th>Adult</th>\n",
       "      <th>Private_Residence</th>\n",
       "      <th>College_Housing</th>\n",
       "      <th>Num_Adults_in_House</th>\n",
       "      <th>Sex</th>\n",
       "      <th>GENHLTH</th>\n",
       "      <th>PHYSHLTH</th>\n",
       "      <th>MENTHLTH</th>\n",
       "      <th>Hist_Asthma</th>\n",
       "      <th>...</th>\n",
       "      <th>SOMALE</th>\n",
       "      <th>SOFEMALE</th>\n",
       "      <th>TRNSGNDR</th>\n",
       "      <th>DISPCODE</th>\n",
       "      <th>Days with Depression</th>\n",
       "      <th>JOINPAI2</th>\n",
       "      <th>ARTHEDU</th>\n",
       "      <th>_RFHLTH</th>\n",
       "      <th>Stressful_life_event</th>\n",
       "      <th>Persisting_Health_Issue</th>\n",
       "    </tr>\n",
       "  </thead>\n",
       "  <tbody>\n",
       "    <tr>\n",
       "      <td>0</td>\n",
       "      <td>1</td>\n",
       "      <td>-1000</td>\n",
       "      <td>-1000</td>\n",
       "      <td>-1000</td>\n",
       "      <td>-1000</td>\n",
       "      <td>2</td>\n",
       "      <td>3</td>\n",
       "      <td>15</td>\n",
       "      <td>88</td>\n",
       "      <td>2</td>\n",
       "      <td>...</td>\n",
       "      <td>-1000</td>\n",
       "      <td>-1000</td>\n",
       "      <td>-1000</td>\n",
       "      <td>1100</td>\n",
       "      <td>1</td>\n",
       "      <td>7</td>\n",
       "      <td>2</td>\n",
       "      <td>1</td>\n",
       "      <td>1</td>\n",
       "      <td>1</td>\n",
       "    </tr>\n",
       "    <tr>\n",
       "      <td>1</td>\n",
       "      <td>1</td>\n",
       "      <td>-1000</td>\n",
       "      <td>-1000</td>\n",
       "      <td>-1000</td>\n",
       "      <td>-1000</td>\n",
       "      <td>2</td>\n",
       "      <td>4</td>\n",
       "      <td>10</td>\n",
       "      <td>88</td>\n",
       "      <td>2</td>\n",
       "      <td>...</td>\n",
       "      <td>-1000</td>\n",
       "      <td>-1000</td>\n",
       "      <td>-1000</td>\n",
       "      <td>1100</td>\n",
       "      <td>1</td>\n",
       "      <td>8</td>\n",
       "      <td>2</td>\n",
       "      <td>2</td>\n",
       "      <td>0</td>\n",
       "      <td>1</td>\n",
       "    </tr>\n",
       "    <tr>\n",
       "      <td>2</td>\n",
       "      <td>1</td>\n",
       "      <td>-1000</td>\n",
       "      <td>-1000</td>\n",
       "      <td>-1000</td>\n",
       "      <td>-1000</td>\n",
       "      <td>2</td>\n",
       "      <td>3</td>\n",
       "      <td>88</td>\n",
       "      <td>30</td>\n",
       "      <td>2</td>\n",
       "      <td>...</td>\n",
       "      <td>-1000</td>\n",
       "      <td>-1000</td>\n",
       "      <td>-1000</td>\n",
       "      <td>1100</td>\n",
       "      <td>3</td>\n",
       "      <td>4</td>\n",
       "      <td>2</td>\n",
       "      <td>1</td>\n",
       "      <td>1</td>\n",
       "      <td>1</td>\n",
       "    </tr>\n",
       "    <tr>\n",
       "      <td>3</td>\n",
       "      <td>1</td>\n",
       "      <td>-1000</td>\n",
       "      <td>-1000</td>\n",
       "      <td>-1000</td>\n",
       "      <td>-1000</td>\n",
       "      <td>2</td>\n",
       "      <td>4</td>\n",
       "      <td>30</td>\n",
       "      <td>88</td>\n",
       "      <td>2</td>\n",
       "      <td>...</td>\n",
       "      <td>-1000</td>\n",
       "      <td>-1000</td>\n",
       "      <td>-1000</td>\n",
       "      <td>1200</td>\n",
       "      <td>1</td>\n",
       "      <td>5</td>\n",
       "      <td>2</td>\n",
       "      <td>2</td>\n",
       "      <td>0</td>\n",
       "      <td>1</td>\n",
       "    </tr>\n",
       "    <tr>\n",
       "      <td>4</td>\n",
       "      <td>1</td>\n",
       "      <td>-1000</td>\n",
       "      <td>-1000</td>\n",
       "      <td>-1000</td>\n",
       "      <td>-1000</td>\n",
       "      <td>2</td>\n",
       "      <td>2</td>\n",
       "      <td>88</td>\n",
       "      <td>88</td>\n",
       "      <td>2</td>\n",
       "      <td>...</td>\n",
       "      <td>-1000</td>\n",
       "      <td>-1000</td>\n",
       "      <td>-1000</td>\n",
       "      <td>1100</td>\n",
       "      <td>1</td>\n",
       "      <td>-1000</td>\n",
       "      <td>-1000</td>\n",
       "      <td>1</td>\n",
       "      <td>0</td>\n",
       "      <td>0</td>\n",
       "    </tr>\n",
       "  </tbody>\n",
       "</table>\n",
       "<p>5 rows × 66 columns</p>\n",
       "</div>"
      ],
      "text/plain": [
       "   State  Adult  Private_Residence  College_Housing  Num_Adults_in_House  Sex  \\\n",
       "0      1  -1000              -1000            -1000                -1000    2   \n",
       "1      1  -1000              -1000            -1000                -1000    2   \n",
       "2      1  -1000              -1000            -1000                -1000    2   \n",
       "3      1  -1000              -1000            -1000                -1000    2   \n",
       "4      1  -1000              -1000            -1000                -1000    2   \n",
       "\n",
       "   GENHLTH  PHYSHLTH  MENTHLTH  Hist_Asthma  ...  SOMALE  SOFEMALE  TRNSGNDR  \\\n",
       "0        3        15        88            2  ...   -1000     -1000     -1000   \n",
       "1        4        10        88            2  ...   -1000     -1000     -1000   \n",
       "2        3        88        30            2  ...   -1000     -1000     -1000   \n",
       "3        4        30        88            2  ...   -1000     -1000     -1000   \n",
       "4        2        88        88            2  ...   -1000     -1000     -1000   \n",
       "\n",
       "   DISPCODE  Days with Depression  JOINPAI2  ARTHEDU  _RFHLTH  \\\n",
       "0      1100                     1         7        2        1   \n",
       "1      1100                     1         8        2        2   \n",
       "2      1100                     3         4        2        1   \n",
       "3      1200                     1         5        2        2   \n",
       "4      1100                     1     -1000    -1000        1   \n",
       "\n",
       "   Stressful_life_event  Persisting_Health_Issue  \n",
       "0                     1                        1  \n",
       "1                     0                        1  \n",
       "2                     1                        1  \n",
       "3                     0                        1  \n",
       "4                     0                        0  \n",
       "\n",
       "[5 rows x 66 columns]"
      ]
     },
     "execution_count": 19,
     "metadata": {},
     "output_type": "execute_result"
    }
   ],
   "source": [
    "data_use_clean.head()"
   ]
  },
  {
   "cell_type": "markdown",
   "metadata": {},
   "source": [
    "### Now Let's Evaluate DATA_USE_CLEAN"
   ]
  },
  {
   "cell_type": "code",
   "execution_count": 20,
   "metadata": {},
   "outputs": [],
   "source": [
    "# corr = data_use_clean.corr()\n",
    "# fig, ax = plt.subplots(figsize=(70, 60))\n",
    "# mask = np.triu(np.ones_like(corr, dtype=np.bool))\n",
    "# ax = sea.heatmap(corr,  vmin=-1, vmax=1, center= 0, cmap= 'coolwarm', mask = mask)\n",
    "# # ax.layout(yaxis = list(range = c(100, 50)))"
   ]
  },
  {
   "cell_type": "code",
   "execution_count": 21,
   "metadata": {},
   "outputs": [
    {
     "data": {
      "text/plain": [
       "History_Depressive_Disorder    1.000000\n",
       "MENTHLTH                       0.321096\n",
       "PHYSHLTH                       0.179521\n",
       "Hist_Asthma                    0.101479\n",
       "_INCOMG                        0.100051\n",
       "SOMALE                         0.071603\n",
       "Type_Physical_Activity         0.051975\n",
       "Name: History_Depressive_Disorder, dtype: float64"
      ]
     },
     "execution_count": 21,
     "metadata": {},
     "output_type": "execute_result"
    }
   ],
   "source": [
    "#Let's inspect the exact correlations...\n",
    "corr = data_use_clean.corr()\n",
    "# corr['History_Depressive_Disorder'].sort_values(ascending=False)\n",
    "top_correlations = corr[corr['History_Depressive_Disorder'] >= 0.05]\n",
    "bottom_correlations = corr[corr['History_Depressive_Disorder'] <= -0.05]\n",
    "top_correlations['History_Depressive_Disorder'].sort_values(ascending = False)"
   ]
  },
  {
   "cell_type": "code",
   "execution_count": 22,
   "metadata": {},
   "outputs": [
    {
     "data": {
      "text/plain": [
       "Reason_for_Marijuana          -0.050388\n",
       "Freq_Primary_Marijuana        -0.050483\n",
       "SOFEMALE                      -0.074694\n",
       "Stressful_life_event          -0.076846\n",
       "PREGNANT                      -0.096097\n",
       "Freq_Days_Smoking             -0.110649\n",
       "Sex                           -0.116216\n",
       "Stopped_Smoke_last_1_Months   -0.132412\n",
       "_RFHLTH                       -0.137623\n",
       "ARTHEDU                       -0.142250\n",
       "JOINPAI2                      -0.142574\n",
       "Persisting_Health_Issue       -0.185476\n",
       "Days with Depression          -0.240257\n",
       "POORHLTH                      -0.272491\n",
       "Name: History_Depressive_Disorder, dtype: float64"
      ]
     },
     "execution_count": 22,
     "metadata": {},
     "output_type": "execute_result"
    }
   ],
   "source": [
    "bottom_correlations['History_Depressive_Disorder'].sort_values(ascending = False)"
   ]
  },
  {
   "cell_type": "code",
   "execution_count": 23,
   "metadata": {},
   "outputs": [
    {
     "data": {
      "text/html": [
       "<div>\n",
       "<style scoped>\n",
       "    .dataframe tbody tr th:only-of-type {\n",
       "        vertical-align: middle;\n",
       "    }\n",
       "\n",
       "    .dataframe tbody tr th {\n",
       "        vertical-align: top;\n",
       "    }\n",
       "\n",
       "    .dataframe thead th {\n",
       "        text-align: right;\n",
       "    }\n",
       "</style>\n",
       "<table border=\"1\" class=\"dataframe\">\n",
       "  <thead>\n",
       "    <tr style=\"text-align: right;\">\n",
       "      <th></th>\n",
       "      <th>History_Depressive_Disorder</th>\n",
       "    </tr>\n",
       "  </thead>\n",
       "  <tbody>\n",
       "    <tr>\n",
       "      <td>History_Depressive_Disorder</td>\n",
       "      <td>1.000000</td>\n",
       "    </tr>\n",
       "    <tr>\n",
       "      <td>MENTHLTH</td>\n",
       "      <td>0.321096</td>\n",
       "    </tr>\n",
       "    <tr>\n",
       "      <td>PHYSHLTH</td>\n",
       "      <td>0.179521</td>\n",
       "    </tr>\n",
       "    <tr>\n",
       "      <td>Hist_Asthma</td>\n",
       "      <td>0.101479</td>\n",
       "    </tr>\n",
       "    <tr>\n",
       "      <td>_INCOMG</td>\n",
       "      <td>0.100051</td>\n",
       "    </tr>\n",
       "    <tr>\n",
       "      <td>SOMALE</td>\n",
       "      <td>0.071603</td>\n",
       "    </tr>\n",
       "    <tr>\n",
       "      <td>Type_Physical_Activity</td>\n",
       "      <td>0.051975</td>\n",
       "    </tr>\n",
       "    <tr>\n",
       "      <td>Reason_for_Marijuana</td>\n",
       "      <td>-0.050388</td>\n",
       "    </tr>\n",
       "    <tr>\n",
       "      <td>Freq_Primary_Marijuana</td>\n",
       "      <td>-0.050483</td>\n",
       "    </tr>\n",
       "    <tr>\n",
       "      <td>SOFEMALE</td>\n",
       "      <td>-0.074694</td>\n",
       "    </tr>\n",
       "    <tr>\n",
       "      <td>Stressful_life_event</td>\n",
       "      <td>-0.076846</td>\n",
       "    </tr>\n",
       "    <tr>\n",
       "      <td>PREGNANT</td>\n",
       "      <td>-0.096097</td>\n",
       "    </tr>\n",
       "    <tr>\n",
       "      <td>Freq_Days_Smoking</td>\n",
       "      <td>-0.110649</td>\n",
       "    </tr>\n",
       "    <tr>\n",
       "      <td>Sex</td>\n",
       "      <td>-0.116216</td>\n",
       "    </tr>\n",
       "    <tr>\n",
       "      <td>Stopped_Smoke_last_1_Months</td>\n",
       "      <td>-0.132412</td>\n",
       "    </tr>\n",
       "    <tr>\n",
       "      <td>_RFHLTH</td>\n",
       "      <td>-0.137623</td>\n",
       "    </tr>\n",
       "    <tr>\n",
       "      <td>ARTHEDU</td>\n",
       "      <td>-0.142250</td>\n",
       "    </tr>\n",
       "    <tr>\n",
       "      <td>JOINPAI2</td>\n",
       "      <td>-0.142574</td>\n",
       "    </tr>\n",
       "    <tr>\n",
       "      <td>Persisting_Health_Issue</td>\n",
       "      <td>-0.185476</td>\n",
       "    </tr>\n",
       "    <tr>\n",
       "      <td>Days with Depression</td>\n",
       "      <td>-0.240257</td>\n",
       "    </tr>\n",
       "    <tr>\n",
       "      <td>POORHLTH</td>\n",
       "      <td>-0.272491</td>\n",
       "    </tr>\n",
       "  </tbody>\n",
       "</table>\n",
       "</div>"
      ],
      "text/plain": [
       "                             History_Depressive_Disorder\n",
       "History_Depressive_Disorder                     1.000000\n",
       "MENTHLTH                                        0.321096\n",
       "PHYSHLTH                                        0.179521\n",
       "Hist_Asthma                                     0.101479\n",
       "_INCOMG                                         0.100051\n",
       "SOMALE                                          0.071603\n",
       "Type_Physical_Activity                          0.051975\n",
       "Reason_for_Marijuana                           -0.050388\n",
       "Freq_Primary_Marijuana                         -0.050483\n",
       "SOFEMALE                                       -0.074694\n",
       "Stressful_life_event                           -0.076846\n",
       "PREGNANT                                       -0.096097\n",
       "Freq_Days_Smoking                              -0.110649\n",
       "Sex                                            -0.116216\n",
       "Stopped_Smoke_last_1_Months                    -0.132412\n",
       "_RFHLTH                                        -0.137623\n",
       "ARTHEDU                                        -0.142250\n",
       "JOINPAI2                                       -0.142574\n",
       "Persisting_Health_Issue                        -0.185476\n",
       "Days with Depression                           -0.240257\n",
       "POORHLTH                                       -0.272491"
      ]
     },
     "metadata": {},
     "output_type": "display_data"
    }
   ],
   "source": [
    "#this is mostly to make a nice visualization table for the write-up \n",
    "correlations_table = pd.concat([top_correlations['History_Depressive_Disorder'], bottom_correlations['History_Depressive_Disorder']])\n",
    "correlations_table = correlations_table.to_frame()\n",
    "display(correlations_table.sort_values(by = 'History_Depressive_Disorder', ascending = False))"
   ]
  },
  {
   "cell_type": "code",
   "execution_count": 24,
   "metadata": {},
   "outputs": [],
   "source": [
    "# corr['History_Depressive_Disorder'].sort_values(ascending=False)"
   ]
  },
  {
   "cell_type": "markdown",
   "metadata": {},
   "source": [
    "## Now we will perform some EDA "
   ]
  },
  {
   "cell_type": "code",
   "execution_count": 25,
   "metadata": {},
   "outputs": [],
   "source": [
    "# sea.countplot(x='History_Depressive_Disorder', hue = 'Sex', data=data_clean).set_title(\"History of Depressive Disorder by Sex\")"
   ]
  },
  {
   "cell_type": "code",
   "execution_count": 26,
   "metadata": {},
   "outputs": [],
   "source": [
    "# plt.figure(figsize=(100, 50))\n",
    "# plt.xticks(size=50)\n",
    "# plt.yticks(size = 50)\n",
    "# ax = sea.countplot(x='PHYSHLTH', hue = 'Sex', data=data_clean)\n",
    "# ax.set_title(\"Physical Health by Sex\", size = 100)\n",
    "# # ax.set(xlabel='common xlabel', ylabel='common ylabel')\n",
    "# ax.set_xlabel(\"Physical Health Value\",fontsize=75)\n",
    "# ax.set_ylabel(\"Frequency\",fontsize=75)\n",
    "# plt.setp(ax.get_legend().get_texts(), fontsize='50') # for legend text\n",
    "# plt.setp(ax.get_legend().get_title(), fontsize='70') # for legend title"
   ]
  },
  {
   "cell_type": "code",
   "execution_count": 27,
   "metadata": {},
   "outputs": [],
   "source": [
    "# plt.figure(figsize=(100, 50))\n",
    "# plt.xticks(size=50)\n",
    "# plt.yticks(size = 50)\n",
    "# ax1 = sea.countplot(x='MENTHLTH', hue = 'Sex', data=data_clean)\n",
    "# ax1.set_title(\"Mental Health by Sex\", size = 100)\n",
    "# ax1.set_xlabel(\"Mental Health Value\",fontsize=75)\n",
    "# ax1.set_ylabel(\"Frequency\",fontsize=75)\n",
    "# plt.setp(ax1.get_legend().get_texts(), fontsize='50') # for legend text\n",
    "# plt.setp(ax1.get_legend().get_title(), fontsize='70') # for legend title"
   ]
  },
  {
   "cell_type": "code",
   "execution_count": 28,
   "metadata": {},
   "outputs": [],
   "source": [
    "# plt.figure(figsize=(100, 100))\n",
    "# plt.xticks(size=100)\n",
    "# plt.yticks(size = 100)\n",
    "# ax2 = sea.countplot(x= 'History_Depressive_Disorder', hue = 'Freq_Forced_Sex', data=data_clean)\n",
    "# ax2.set_title(\"Depressive Disorder by Experience with Sexual Abuse\", size = 100)\n",
    "# ax2.set_xlabel(\"Depressive Disorder Value\",fontsize=75)\n",
    "# ax2.set_ylabel(\"Frequency\",fontsize=75)\n",
    "# plt.setp(ax2.get_legend().get_texts(), fontsize='100') # for legend text\n",
    "# plt.setp(ax2.get_legend().get_title(), fontsize='100') # for legend title"
   ]
  },
  {
   "cell_type": "code",
   "execution_count": 29,
   "metadata": {},
   "outputs": [],
   "source": [
    "# # sea.catplot( data=data_clean, x = \"History_Depressive_Disorder\", kind = \"bar\", y = \"Freq_Forced_Sex\")\n",
    "# sea.countplot(data = data_clean, x = \"Rent_home\")"
   ]
  },
  {
   "cell_type": "code",
   "execution_count": 30,
   "metadata": {},
   "outputs": [],
   "source": [
    "# plt.figure(figsize=(200, 80))\n",
    "# plt.xticks(size=100)\n",
    "# plt.yticks(size = 100)\n",
    "# ax3 = sea.countplot(x= 'Num_Times_Bingge_Drink', hue ='History_Depressive_Disorder', data=data_clean)\n",
    "# plt.setp(ax3.get_legend().get_texts(), fontsize='100') # for legend text\n",
    "# plt.setp(ax3.get_legend().get_title(), fontsize='100') # for legend title"
   ]
  },
  {
   "cell_type": "markdown",
   "metadata": {},
   "source": [
    "## Narrow Down Features Used In Classification \n",
    "We will do this by including all the features with correlations to history of depressive disorder above 0.1 and below -0.1 strength "
   ]
  },
  {
   "cell_type": "code",
   "execution_count": 31,
   "metadata": {},
   "outputs": [],
   "source": [
    "#ever feature we think might be important \n",
    "data_use_all = data_use_clean[[\"Persisting_Health_Issue\", \"Stressful_life_event\", \"MENTHLTH\", \"PHYSHLTH\", \"Freq_Days_Smoking\", \"Sex\", \"Stopped_Smoke_last_1_Months\", \"POORHLTH\", \"_INCOMG\", \"Hist_Asthma\", \"Days with Depression\", \"History_Depressive_Disorder\"]]\n",
    "\n",
    "#only engineered features \n",
    "data_use_1 = data_use_clean[[\"Persisting_Health_Issue\", \"Stressful_life_event\", \"History_Depressive_Disorder\"]]\n",
    "\n",
    "#top and bottom 3 correlations\n",
    "data_use_2 = data_use_clean[[\"Persisting_Health_Issue\", \"MENTHLTH\", \"PHYSHLTH\", \"POORHLTH\", \"Hist_Asthma\", \"Days with Depression\", \"History_Depressive_Disorder\"]]\n",
    "\n",
    "# data_use_3 = data_use_clean[[\"Persisting_Health_Issue\", \"Stressful_life_event\", \"MENTHLTH\", \"PHYSHLTH\", \"Freq_Days_Smoking\", \"Sex\", \"Stopped_Smoke_last_1_Months\", \"POORHLTH\", \"_INCOMG\", \"Hist_Asthma\", \"Days with Depression\", \"History_Depressive_Disorder\"]]\n",
    "\n",
    "# data_use_4 = data_use_clean[[\"Persisting_Health_Issue\", \"Stressful_life_event\", \"MENTHLTH\", \"PHYSHLTH\", \"Freq_Days_Smoking\", \"Sex\", \"Stopped_Smoke_last_1_Months\", \"POORHLTH\", \"_INCOMG\", \"Hist_Asthma\", \"Days with Depression\", \"History_Depressive_Disorder\"]]\n",
    "\n"
   ]
  },
  {
   "cell_type": "code",
   "execution_count": 32,
   "metadata": {},
   "outputs": [],
   "source": [
    "# features_use_vis = {}\n",
    "# features_use_vis['dataset_1'] = [\"Persisting_Health_Issue\", \"Stressful_life_event\", \"MENTHLTH\", \"PHYSHLTH\", \"Freq_Days_Smoking\", \"Sex\", \"Stopped_Smoke_last_1_Months\", \n",
    "#                                  \"POORHLTH\", \"_INCOMG\", \"Hist_Asthma\", \"Days with Depression\", \"History_Depressive_Disorder\"]\n",
    "# features_use_vis['dataset_2'] = [\"Persisting_Health_Issue\", \"Stressful_life_event\", \"History_Depressive_Disorder\"]\n",
    "# features_use_vis['dataset_3'] = [\"Persisting_Health_Issue\", \"MENTHLTH\", \"PHYSHLTH\", \"POORHLTH\", \"Hist_Asthma\", \"Days with Depression\", \"History_Depressive_Disorder\"]\n",
    "\n",
    "# df_features = pd.DataFrame({'Features': [[\"Persisting_Health_Issue\", \"Stressful_life_event\", \"MENTHLTH\", \"PHYSHLTH\", \"Freq_Days_Smoking\", \"Sex\", \"Stopped_Smoke_last_1_Months\", \n",
    "#                                  \"POORHLTH\", \"_INCOMG\", \"Hist_Asthma\", \"Days with Depression\", \"History_Depressive_Disorder\"], \n",
    "#                                          [\"Persisting_Health_Issue\", \"Stressful_life_event\", \"History_Depressive_Disorder\"], \n",
    "#                                          [\"Persisting_Health_Issue\", \"MENTHLTH\", \"PHYSHLTH\", \"POORHLTH\", \"Hist_Asthma\", \"Days with Depression\", \"History_Depressive_Disorder\"]]})\n",
    "# df_features.rename(index = {0: 'dataset_1', 1: 'dataset_2', 2: 'dataset_3'})\n",
    "# print(df_features)\n"
   ]
  },
  {
   "cell_type": "markdown",
   "metadata": {},
   "source": [
    "# Separation of test and validation sets "
   ]
  },
  {
   "cell_type": "code",
   "execution_count": 33,
   "metadata": {},
   "outputs": [],
   "source": [
    "def data_sep(data): \n",
    "    data_train = data[:]\n",
    "    #separate features from labels \n",
    "    X = np.array(data_train.drop(['History_Depressive_Disorder'], 1))\n",
    "    y = np.array(data_train['History_Depressive_Disorder'])\n",
    "    X_train, X_test, y_train, y_test = train_test_split(X, y, test_size = 0.2, random_state = 123)\n",
    "    y_train_keras = tf.keras.utils.to_categorical(y_train, 3)\n",
    "    y_test_keras = tf.keras.utils.to_categorical(y_test, 3)\n",
    "    return X_train, X_test, y_train_keras, y_test_keras"
   ]
  },
  {
   "cell_type": "markdown",
   "metadata": {},
   "source": [
    "# MLP Models with different feature combinations"
   ]
  },
  {
   "cell_type": "code",
   "execution_count": 34,
   "metadata": {},
   "outputs": [],
   "source": [
    "def model_create(num_features):\n",
    "    network = tf.keras.Sequential()\n",
    "    network.add(layers.Dense(36, activation='sigmoid', input_shape=(num_features,))) \n",
    "    network.add(layers.Dense(36, activation='sigmoid')) \n",
    "    network.add(layers.Dense(36, activation='sigmoid')) \n",
    "    network.add(layers.Dense(3, activation='softmax'))\n",
    "    return network"
   ]
  },
  {
   "cell_type": "code",
   "execution_count": 35,
   "metadata": {},
   "outputs": [],
   "source": [
    "def model_compile(model, epoch_num, X_train, y_train_keras, X_test, y_test_keras):\n",
    "    # we choose categorical crossentropy and accuracy because we did the one-hot categorical transformation above\n",
    "    model.compile(optimizer = \"adam\", loss = 'categorical_crossentropy', metrics = ['categorical_accuracy'])\n",
    "\n",
    "    start=datetime.now()\n",
    "    mod = model.fit(X_train, y_train_keras, epochs = epoch_num, validation_data = (X_test, y_test_keras))\n",
    "    end=datetime.now()\n",
    "    print(\"Run time: \", end-start)\n",
    "    return mod"
   ]
  },
  {
   "cell_type": "code",
   "execution_count": 36,
   "metadata": {},
   "outputs": [],
   "source": [
    "def plot_loss_metrics(history_dict, num_epochs, modelnum): \n",
    "    plot_title = 'Training and validation loss: Model ' + modelnum\n",
    "    loss_values = history_dict['loss'] \n",
    "    val_loss_values = history_dict['val_loss']\n",
    "    epochs = range(1, num_epochs + 1)\n",
    "    plt.plot(epochs, loss_values, 'bo', label='Training loss') \n",
    "    plt.plot(epochs, val_loss_values, 'b', label='Validation loss')\n",
    "    plt.title(plot_title) \n",
    "    plt.xlabel('Epochs')\n",
    "    plt.ylabel('Loss')\n",
    "    plt.legend()\n",
    "    return plt"
   ]
  },
  {
   "cell_type": "code",
   "execution_count": 37,
   "metadata": {},
   "outputs": [],
   "source": [
    "def plot_acc_metrics(history_dict, num_epochs, modelnum): \n",
    "    plot_title = 'Training and validation accuracy: Model ' + modelnum\n",
    "    plt.clf() \n",
    "    epochs = range(1, num_epochs + 1)\n",
    "    acc_values = history_dict['categorical_accuracy'] \n",
    "    val_acc_values = history_dict['val_categorical_accuracy']\n",
    "    plt.plot(epochs, acc_values, 'bo', label='Training acc') \n",
    "    plt.plot(epochs, val_acc_values, 'b', label='Validation acc') \n",
    "    plt.title(plot_title) \n",
    "    plt.xlabel('Epochs')\n",
    "    plt.ylabel('Accuracy') \n",
    "    plt.legend()\n",
    "    return plt"
   ]
  },
  {
   "cell_type": "markdown",
   "metadata": {},
   "source": [
    "### Model 1"
   ]
  },
  {
   "cell_type": "code",
   "execution_count": 38,
   "metadata": {},
   "outputs": [
    {
     "name": "stdout",
     "output_type": "stream",
     "text": [
      "WARNING:tensorflow:From /Users/kirabreeden/opt/anaconda3/lib/python3.7/site-packages/tensorflow/python/ops/init_ops.py:1251: calling VarianceScaling.__init__ (from tensorflow.python.ops.init_ops) with dtype is deprecated and will be removed in a future version.\n",
      "Instructions for updating:\n",
      "Call initializer instance with the dtype argument instead of passing it to the constructor\n",
      "Model: \"sequential\"\n",
      "_________________________________________________________________\n",
      "Layer (type)                 Output Shape              Param #   \n",
      "=================================================================\n",
      "dense (Dense)                (None, 36)                432       \n",
      "_________________________________________________________________\n",
      "dense_1 (Dense)              (None, 36)                1332      \n",
      "_________________________________________________________________\n",
      "dense_2 (Dense)              (None, 36)                1332      \n",
      "_________________________________________________________________\n",
      "dense_3 (Dense)              (None, 3)                 111       \n",
      "=================================================================\n",
      "Total params: 3,207\n",
      "Trainable params: 3,207\n",
      "Non-trainable params: 0\n",
      "_________________________________________________________________\n"
     ]
    }
   ],
   "source": [
    "X_train, X_test, y_train_keras, y_test_keras = data_sep(data_use_all)\n",
    "model1 = model_create(11)\n",
    "model1.summary()\n",
    "# mod1 = model_compile(model1, 20, X_train, y_train_keras, X_test, y_test_keras)"
   ]
  },
  {
   "cell_type": "code",
   "execution_count": 1,
   "metadata": {},
   "outputs": [
    {
     "ename": "NameError",
     "evalue": "name 'mod1' is not defined",
     "output_type": "error",
     "traceback": [
      "\u001b[0;31m---------------------------------------------------------------------------\u001b[0m",
      "\u001b[0;31mNameError\u001b[0m                                 Traceback (most recent call last)",
      "\u001b[0;32m<ipython-input-1-5635eac5c008>\u001b[0m in \u001b[0;36m<module>\u001b[0;34m\u001b[0m\n\u001b[0;32m----> 1\u001b[0;31m \u001b[0mhistory_dict1\u001b[0m \u001b[0;34m=\u001b[0m \u001b[0mmod1\u001b[0m\u001b[0;34m.\u001b[0m\u001b[0mhistory\u001b[0m\u001b[0;34m\u001b[0m\u001b[0;34m\u001b[0m\u001b[0m\n\u001b[0m\u001b[1;32m      2\u001b[0m \u001b[0mhistory_dict1\u001b[0m\u001b[0;34m.\u001b[0m\u001b[0mhistory\u001b[0m\u001b[0;34m.\u001b[0m\u001b[0mkeys\u001b[0m\u001b[0;34m(\u001b[0m\u001b[0;34m)\u001b[0m\u001b[0;34m\u001b[0m\u001b[0;34m\u001b[0m\u001b[0m\n",
      "\u001b[0;31mNameError\u001b[0m: name 'mod1' is not defined"
     ]
    }
   ],
   "source": [
    "history_dict1 = mod1.history\n",
    "history_dict1.keys()"
   ]
  },
  {
   "cell_type": "code",
   "execution_count": 38,
   "metadata": {},
   "outputs": [],
   "source": [
    "metrics_dict = {}\n",
    "metrics_dict['model1'] = list([history_dict1['loss'][-1]*100, \n",
    "                               history_dict1['categorical_accuracy'][-1]*100, \n",
    "                               history_dict1['val_loss'][-1]*100, \n",
    "                               history_dict1['val_categorical_accuracy'][-1]*100])"
   ]
  },
  {
   "cell_type": "code",
   "execution_count": 113,
   "metadata": {},
   "outputs": [
    {
     "data": {
      "image/png": "[encoded data removed]",
      "text/plain": [
       "<Figure size 432x288 with 1 Axes>"
      ]
     },
     "metadata": {
      "needs_background": "light"
     },
     "output_type": "display_data"
    }
   ],
   "source": [
    "loss1 = plot_loss_metrics(history_dict1, 20, '1')\n",
    "loss1.savefig('model1_loss.png')"
   ]
  },
  {
   "cell_type": "code",
   "execution_count": 116,
   "metadata": {},
   "outputs": [
    {
     "data": {
      "image/png": "[encoded data removed]",
      "text/plain": [
       "<Figure size 432x288 with 1 Axes>"
      ]
     },
     "metadata": {
      "needs_background": "light"
     },
     "output_type": "display_data"
    }
   ],
   "source": [
    "acc1 = plot_acc_metrics(history_dict1, 20, '1')\n",
    "acc1.savefig('model1_acc.png')"
   ]
  },
  {
   "cell_type": "code",
   "execution_count": 41,
   "metadata": {},
   "outputs": [],
   "source": [
    "# print(network.summary())"
   ]
  },
  {
   "cell_type": "markdown",
   "metadata": {},
   "source": [
    "### Model 2"
   ]
  },
  {
   "cell_type": "code",
   "execution_count": 42,
   "metadata": {},
   "outputs": [
    {
     "name": "stdout",
     "output_type": "stream",
     "text": [
      "Train on 313337 samples, validate on 78335 samples\n",
      "Epoch 1/20\n",
      "313337/313337 [==============================] - 11s 34us/sample - loss: 0.4958 - categorical_accuracy: 0.8050 - val_loss: 0.4881 - val_categorical_accuracy: 0.8069\n",
      "Epoch 2/20\n",
      "313337/313337 [==============================] - 11s 34us/sample - loss: 0.4902 - categorical_accuracy: 0.8061 - val_loss: 0.4888 - val_categorical_accuracy: 0.8069\n",
      "Epoch 3/20\n",
      "313337/313337 [==============================] - 11s 34us/sample - loss: 0.4900 - categorical_accuracy: 0.8061 - val_loss: 0.4881 - val_categorical_accuracy: 0.8069\n",
      "Epoch 4/20\n",
      "313337/313337 [==============================] - 11s 36us/sample - loss: 0.4899 - categorical_accuracy: 0.8061 - val_loss: 0.4892 - val_categorical_accuracy: 0.8069\n",
      "Epoch 5/20\n",
      "313337/313337 [==============================] - 10s 33us/sample - loss: 0.4897 - categorical_accuracy: 0.8061 - val_loss: 0.4889 - val_categorical_accuracy: 0.8069\n",
      "Epoch 6/20\n",
      "313337/313337 [==============================] - 11s 35us/sample - loss: 0.4896 - categorical_accuracy: 0.8061 - val_loss: 0.4885 - val_categorical_accuracy: 0.8069\n",
      "Epoch 7/20\n",
      "313337/313337 [==============================] - 10s 33us/sample - loss: 0.4897 - categorical_accuracy: 0.8061 - val_loss: 0.4887 - val_categorical_accuracy: 0.8069\n",
      "Epoch 8/20\n",
      "313337/313337 [==============================] - 10s 33us/sample - loss: 0.4895 - categorical_accuracy: 0.8061 - val_loss: 0.4882 - val_categorical_accuracy: 0.8069\n",
      "Epoch 9/20\n",
      "313337/313337 [==============================] - 10s 33us/sample - loss: 0.4895 - categorical_accuracy: 0.8061 - val_loss: 0.4885 - val_categorical_accuracy: 0.8069\n",
      "Epoch 10/20\n",
      "313337/313337 [==============================] - 11s 34us/sample - loss: 0.4895 - categorical_accuracy: 0.8061 - val_loss: 0.4892 - val_categorical_accuracy: 0.8069\n",
      "Epoch 11/20\n",
      "313337/313337 [==============================] - 12s 37us/sample - loss: 0.4894 - categorical_accuracy: 0.8061 - val_loss: 0.4881 - val_categorical_accuracy: 0.8069\n",
      "Epoch 12/20\n",
      "313337/313337 [==============================] - 10s 33us/sample - loss: 0.4894 - categorical_accuracy: 0.8061 - val_loss: 0.4889 - val_categorical_accuracy: 0.8069\n",
      "Epoch 13/20\n",
      "313337/313337 [==============================] - 10s 33us/sample - loss: 0.4894 - categorical_accuracy: 0.8061 - val_loss: 0.4882 - val_categorical_accuracy: 0.8069\n",
      "Epoch 14/20\n",
      "313337/313337 [==============================] - 10s 33us/sample - loss: 0.4894 - categorical_accuracy: 0.8061 - val_loss: 0.4883 - val_categorical_accuracy: 0.8069\n",
      "Epoch 15/20\n",
      "313337/313337 [==============================] - 10s 33us/sample - loss: 0.4894 - categorical_accuracy: 0.8061 - val_loss: 0.4889 - val_categorical_accuracy: 0.8069\n",
      "Epoch 16/20\n",
      "313337/313337 [==============================] - 11s 35us/sample - loss: 0.4894 - categorical_accuracy: 0.8061 - val_loss: 0.4881 - val_categorical_accuracy: 0.8069\n",
      "Epoch 17/20\n",
      "313337/313337 [==============================] - 10s 33us/sample - loss: 0.4894 - categorical_accuracy: 0.8061 - val_loss: 0.4882 - val_categorical_accuracy: 0.8069\n",
      "Epoch 18/20\n",
      "313337/313337 [==============================] - 10s 33us/sample - loss: 0.4893 - categorical_accuracy: 0.8061 - val_loss: 0.4881 - val_categorical_accuracy: 0.8069\n",
      "Epoch 19/20\n",
      "313337/313337 [==============================] - 10s 33us/sample - loss: 0.4893 - categorical_accuracy: 0.8061 - val_loss: 0.4887 - val_categorical_accuracy: 0.8069\n",
      "Epoch 20/20\n",
      "313337/313337 [==============================] - 11s 35us/sample - loss: 0.4894 - categorical_accuracy: 0.8061 - val_loss: 0.4881 - val_categorical_accuracy: 0.8069\n",
      "Run time:  0:03:32.391866\n"
     ]
    }
   ],
   "source": [
    "X_train2, X_test2, y_train_keras2, y_test_keras2 = data_sep(data_use_1)\n",
    "model2 = model_create(2)\n",
    "mod2 = model_compile(model2, 20, X_train2, y_train_keras2, X_test2, y_test_keras2)"
   ]
  },
  {
   "cell_type": "code",
   "execution_count": 43,
   "metadata": {},
   "outputs": [],
   "source": [
    "history_dict2 = mod2.history\n",
    "# history_dict1.keys()"
   ]
  },
  {
   "cell_type": "code",
   "execution_count": 93,
   "metadata": {},
   "outputs": [],
   "source": [
    "metrics_dict['model2'] = list([history_dict2['loss'][-1]*100, \n",
    "                               history_dict2['categorical_accuracy'][-1]*100, \n",
    "                               history_dict2['val_loss'][-1]*100, \n",
    "                               history_dict2['val_categorical_accuracy'][-1]*100])"
   ]
  },
  {
   "cell_type": "code",
   "execution_count": 117,
   "metadata": {},
   "outputs": [
    {
     "data": {
      "image/png": "[encoded data removed]",
      "text/plain": [
       "<Figure size 432x288 with 1 Axes>"
      ]
     },
     "metadata": {
      "needs_background": "light"
     },
     "output_type": "display_data"
    }
   ],
   "source": [
    "loss2 = plot_loss_metrics(history_dict2, 20, '2')\n",
    "loss2.savefig('model2_loss.png')"
   ]
  },
  {
   "cell_type": "code",
   "execution_count": 118,
   "metadata": {},
   "outputs": [
    {
     "data": {
      "image/png": "[encoded data removed]",
      "text/plain": [
       "<Figure size 432x288 with 1 Axes>"
      ]
     },
     "metadata": {
      "needs_background": "light"
     },
     "output_type": "display_data"
    }
   ],
   "source": [
    "acc2 = plot_acc_metrics(history_dict2, 20, '2')\n",
    "acc2.savefig('model2_acc.png')"
   ]
  },
  {
   "cell_type": "markdown",
   "metadata": {},
   "source": [
    "### Model 3"
   ]
  },
  {
   "cell_type": "code",
   "execution_count": 45,
   "metadata": {},
   "outputs": [
    {
     "name": "stdout",
     "output_type": "stream",
     "text": [
      "Train on 313337 samples, validate on 78335 samples\n",
      "Epoch 1/20\n",
      "313337/313337 [==============================] - 11s 36us/sample - loss: 0.4247 - categorical_accuracy: 0.8273 - val_loss: 0.4103 - val_categorical_accuracy: 0.8362\n",
      "Epoch 2/20\n",
      "313337/313337 [==============================] - 11s 36us/sample - loss: 0.4123 - categorical_accuracy: 0.8349 - val_loss: 0.4097 - val_categorical_accuracy: 0.8377\n",
      "Epoch 3/20\n",
      "313337/313337 [==============================] - 11s 35us/sample - loss: 0.4117 - categorical_accuracy: 0.8357 - val_loss: 0.4091 - val_categorical_accuracy: 0.8361\n",
      "Epoch 4/20\n",
      "313337/313337 [==============================] - 11s 34us/sample - loss: 0.4111 - categorical_accuracy: 0.8355 - val_loss: 0.4100 - val_categorical_accuracy: 0.8370\n",
      "Epoch 5/20\n",
      "313337/313337 [==============================] - 11s 35us/sample - loss: 0.4109 - categorical_accuracy: 0.8361 - val_loss: 0.4080 - val_categorical_accuracy: 0.8370\n",
      "Epoch 6/20\n",
      "313337/313337 [==============================] - 11s 34us/sample - loss: 0.4106 - categorical_accuracy: 0.8360 - val_loss: 0.4080 - val_categorical_accuracy: 0.8382\n",
      "Epoch 7/20\n",
      "313337/313337 [==============================] - 11s 36us/sample - loss: 0.4107 - categorical_accuracy: 0.8356 - val_loss: 0.4085 - val_categorical_accuracy: 0.8379\n",
      "Epoch 8/20\n",
      "313337/313337 [==============================] - 11s 35us/sample - loss: 0.4104 - categorical_accuracy: 0.8359 - val_loss: 0.4090 - val_categorical_accuracy: 0.8356\n",
      "Epoch 9/20\n",
      "313337/313337 [==============================] - 11s 35us/sample - loss: 0.4103 - categorical_accuracy: 0.8359 - val_loss: 0.4075 - val_categorical_accuracy: 0.8386\n",
      "Epoch 10/20\n",
      "313337/313337 [==============================] - 11s 35us/sample - loss: 0.4101 - categorical_accuracy: 0.8360 - val_loss: 0.4082 - val_categorical_accuracy: 0.8379\n",
      "Epoch 11/20\n",
      "313337/313337 [==============================] - 11s 35us/sample - loss: 0.4100 - categorical_accuracy: 0.8364 - val_loss: 0.4075 - val_categorical_accuracy: 0.8380\n",
      "Epoch 12/20\n",
      "313337/313337 [==============================] - 11s 35us/sample - loss: 0.4098 - categorical_accuracy: 0.8362 - val_loss: 0.4081 - val_categorical_accuracy: 0.8381\n",
      "Epoch 13/20\n",
      "313337/313337 [==============================] - 11s 34us/sample - loss: 0.4098 - categorical_accuracy: 0.8363 - val_loss: 0.4084 - val_categorical_accuracy: 0.8378\n",
      "Epoch 14/20\n",
      "313337/313337 [==============================] - 11s 35us/sample - loss: 0.4098 - categorical_accuracy: 0.8363 - val_loss: 0.4077 - val_categorical_accuracy: 0.8374\n",
      "Epoch 15/20\n",
      "313337/313337 [==============================] - 11s 37us/sample - loss: 0.4095 - categorical_accuracy: 0.8364 - val_loss: 0.4071 - val_categorical_accuracy: 0.8383\n",
      "Epoch 16/20\n",
      "313337/313337 [==============================] - 11s 34us/sample - loss: 0.4093 - categorical_accuracy: 0.8362 - val_loss: 0.4090 - val_categorical_accuracy: 0.8375\n",
      "Epoch 17/20\n",
      "313337/313337 [==============================] - 11s 34us/sample - loss: 0.4092 - categorical_accuracy: 0.8366 - val_loss: 0.4076 - val_categorical_accuracy: 0.8382\n",
      "Epoch 18/20\n",
      "313337/313337 [==============================] - 11s 35us/sample - loss: 0.4093 - categorical_accuracy: 0.8366 - val_loss: 0.4067 - val_categorical_accuracy: 0.8380\n",
      "Epoch 19/20\n",
      "313337/313337 [==============================] - 11s 35us/sample - loss: 0.4090 - categorical_accuracy: 0.8365 - val_loss: 0.4069 - val_categorical_accuracy: 0.8382\n",
      "Epoch 20/20\n",
      "313337/313337 [==============================] - 11s 34us/sample - loss: 0.4089 - categorical_accuracy: 0.8367 - val_loss: 0.4068 - val_categorical_accuracy: 0.8382\n",
      "Run time:  0:03:38.892529\n"
     ]
    }
   ],
   "source": [
    "X_train3, X_test3, y_train_keras3, y_test_keras3 = data_sep(data_use_2)\n",
    "model3 = model_create(6)\n",
    "mod3 = model_compile(model3, 20, X_train3, y_train_keras3, X_test3, y_test_keras3)"
   ]
  },
  {
   "cell_type": "code",
   "execution_count": 46,
   "metadata": {},
   "outputs": [],
   "source": [
    "history_dict3 = mod3.history"
   ]
  },
  {
   "cell_type": "code",
   "execution_count": 47,
   "metadata": {},
   "outputs": [],
   "source": [
    "metrics_dict['model3'] = list([history_dict3['loss'][-1]*100, \n",
    "                               history_dict3['categorical_accuracy'][-1]*100, \n",
    "                               history_dict3['val_loss'][-1]*100, \n",
    "                               history_dict3['val_categorical_accuracy'][-1]*100])"
   ]
  },
  {
   "cell_type": "code",
   "execution_count": 119,
   "metadata": {},
   "outputs": [
    {
     "data": {
      "image/png": "[encoded data removed]",
      "text/plain": [
       "<Figure size 432x288 with 1 Axes>"
      ]
     },
     "metadata": {
      "needs_background": "light"
     },
     "output_type": "display_data"
    }
   ],
   "source": [
    "loss3 = plot_loss_metrics(history_dict3, 20, '3')\n",
    "loss3.savefig('model3_loss.png')"
   ]
  },
  {
   "cell_type": "code",
   "execution_count": 120,
   "metadata": {},
   "outputs": [
    {
     "data": {
      "image/png": "[encoded data removed]",
      "text/plain": [
       "<Figure size 432x288 with 1 Axes>"
      ]
     },
     "metadata": {
      "needs_background": "light"
     },
     "output_type": "display_data"
    }
   ],
   "source": [
    "acc3 = plot_acc_metrics(history_dict3, 20, '3')\n",
    "acc3.savefig('model3_acc.png')"
   ]
  },
  {
   "cell_type": "code",
   "execution_count": 49,
   "metadata": {},
   "outputs": [
    {
     "data": {
      "text/html": [
       "<div>\n",
       "<style scoped>\n",
       "    .dataframe tbody tr th:only-of-type {\n",
       "        vertical-align: middle;\n",
       "    }\n",
       "\n",
       "    .dataframe tbody tr th {\n",
       "        vertical-align: top;\n",
       "    }\n",
       "\n",
       "    .dataframe thead th {\n",
       "        text-align: right;\n",
       "    }\n",
       "</style>\n",
       "<table border=\"1\" class=\"dataframe\">\n",
       "  <thead>\n",
       "    <tr style=\"text-align: right;\">\n",
       "      <th></th>\n",
       "      <th>loss</th>\n",
       "      <th>categorical_accuracy</th>\n",
       "      <th>val_loss</th>\n",
       "      <th>val_categorical_accuracy</th>\n",
       "    </tr>\n",
       "  </thead>\n",
       "  <tbody>\n",
       "    <tr>\n",
       "      <td>model1</td>\n",
       "      <td>43.904725</td>\n",
       "      <td>81.942129</td>\n",
       "      <td>43.727929</td>\n",
       "      <td>82.071871</td>\n",
       "    </tr>\n",
       "    <tr>\n",
       "      <td>model2</td>\n",
       "      <td>48.935676</td>\n",
       "      <td>80.610973</td>\n",
       "      <td>48.810034</td>\n",
       "      <td>80.694455</td>\n",
       "    </tr>\n",
       "    <tr>\n",
       "      <td>model3</td>\n",
       "      <td>40.886731</td>\n",
       "      <td>83.667743</td>\n",
       "      <td>40.680953</td>\n",
       "      <td>83.823323</td>\n",
       "    </tr>\n",
       "  </tbody>\n",
       "</table>\n",
       "</div>"
      ],
      "text/plain": [
       "             loss  categorical_accuracy   val_loss  val_categorical_accuracy\n",
       "model1  43.904725             81.942129  43.727929                 82.071871\n",
       "model2  48.935676             80.610973  48.810034                 80.694455\n",
       "model3  40.886731             83.667743  40.680953                 83.823323"
      ]
     },
     "execution_count": 49,
     "metadata": {},
     "output_type": "execute_result"
    }
   ],
   "source": [
    "pd.DataFrame.from_dict(metrics_dict, orient='index', columns=['loss', 'categorical_accuracy', 'val_loss', 'val_categorical_accuracy'])\n",
    "\n"
   ]
  },
  {
   "cell_type": "code",
   "execution_count": null,
   "metadata": {},
   "outputs": [],
   "source": []
  }
 ],
 "metadata": {
  "kernelspec": {
   "display_name": "Python 3",
   "language": "python",
   "name": "python3"
  },
  "language_info": {
   "codemirror_mode": {
    "name": "ipython",
    "version": 3
   },
   "file_extension": ".py",
   "mimetype": "text/x-python",
   "name": "python",
   "nbconvert_exporter": "python",
   "pygments_lexer": "ipython3",
   "version": "3.7.4"
  }
 },
 "nbformat": 4,
 "nbformat_minor": 2
}
