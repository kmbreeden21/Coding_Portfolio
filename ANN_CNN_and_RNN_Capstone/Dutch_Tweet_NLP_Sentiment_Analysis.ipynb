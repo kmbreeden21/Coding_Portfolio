{
 "cells": [
  {
   "cell_type": "markdown",
   "metadata": {},
   "source": [
    "# Analyzing Dutch Tweets for Sentiment Indicating Depression"
   ]
  },
  {
   "cell_type": "code",
   "execution_count": 1,
   "metadata": {},
   "outputs": [],
   "source": [
    "import json"
   ]
  },
  {
   "cell_type": "code",
   "execution_count": 2,
   "metadata": {},
   "outputs": [],
   "source": [
    "import warnings\n",
    "warnings.filterwarnings(\"ignore\", category=DeprecationWarning)"
   ]
  },
  {
   "cell_type": "code",
   "execution_count": 3,
   "metadata": {},
   "outputs": [],
   "source": [
    "import pandas as pd\n",
    "import numpy as np\n",
    "import matplotlib.pyplot as plt\n",
    "import seaborn as sea"
   ]
  },
  {
   "cell_type": "code",
   "execution_count": 4,
   "metadata": {},
   "outputs": [
    {
     "name": "stderr",
     "output_type": "stream",
     "text": [
      "/Users/kirabreeden/opt/anaconda3/lib/python3.7/site-packages/tensorflow/python/framework/dtypes.py:516: FutureWarning: Passing (type, 1) or '1type' as a synonym of type is deprecated; in a future version of numpy, it will be understood as (type, (1,)) / '(1,)type'.\n",
      "  _np_qint8 = np.dtype([(\"qint8\", np.int8, 1)])\n",
      "/Users/kirabreeden/opt/anaconda3/lib/python3.7/site-packages/tensorflow/python/framework/dtypes.py:517: FutureWarning: Passing (type, 1) or '1type' as a synonym of type is deprecated; in a future version of numpy, it will be understood as (type, (1,)) / '(1,)type'.\n",
      "  _np_quint8 = np.dtype([(\"quint8\", np.uint8, 1)])\n",
      "/Users/kirabreeden/opt/anaconda3/lib/python3.7/site-packages/tensorflow/python/framework/dtypes.py:518: FutureWarning: Passing (type, 1) or '1type' as a synonym of type is deprecated; in a future version of numpy, it will be understood as (type, (1,)) / '(1,)type'.\n",
      "  _np_qint16 = np.dtype([(\"qint16\", np.int16, 1)])\n",
      "/Users/kirabreeden/opt/anaconda3/lib/python3.7/site-packages/tensorflow/python/framework/dtypes.py:519: FutureWarning: Passing (type, 1) or '1type' as a synonym of type is deprecated; in a future version of numpy, it will be understood as (type, (1,)) / '(1,)type'.\n",
      "  _np_quint16 = np.dtype([(\"quint16\", np.uint16, 1)])\n",
      "/Users/kirabreeden/opt/anaconda3/lib/python3.7/site-packages/tensorflow/python/framework/dtypes.py:520: FutureWarning: Passing (type, 1) or '1type' as a synonym of type is deprecated; in a future version of numpy, it will be understood as (type, (1,)) / '(1,)type'.\n",
      "  _np_qint32 = np.dtype([(\"qint32\", np.int32, 1)])\n",
      "/Users/kirabreeden/opt/anaconda3/lib/python3.7/site-packages/tensorflow/python/framework/dtypes.py:525: FutureWarning: Passing (type, 1) or '1type' as a synonym of type is deprecated; in a future version of numpy, it will be understood as (type, (1,)) / '(1,)type'.\n",
      "  np_resource = np.dtype([(\"resource\", np.ubyte, 1)])\n",
      "/Users/kirabreeden/opt/anaconda3/lib/python3.7/site-packages/tensorboard/compat/tensorflow_stub/dtypes.py:541: FutureWarning: Passing (type, 1) or '1type' as a synonym of type is deprecated; in a future version of numpy, it will be understood as (type, (1,)) / '(1,)type'.\n",
      "  _np_qint8 = np.dtype([(\"qint8\", np.int8, 1)])\n",
      "/Users/kirabreeden/opt/anaconda3/lib/python3.7/site-packages/tensorboard/compat/tensorflow_stub/dtypes.py:542: FutureWarning: Passing (type, 1) or '1type' as a synonym of type is deprecated; in a future version of numpy, it will be understood as (type, (1,)) / '(1,)type'.\n",
      "  _np_quint8 = np.dtype([(\"quint8\", np.uint8, 1)])\n",
      "/Users/kirabreeden/opt/anaconda3/lib/python3.7/site-packages/tensorboard/compat/tensorflow_stub/dtypes.py:543: FutureWarning: Passing (type, 1) or '1type' as a synonym of type is deprecated; in a future version of numpy, it will be understood as (type, (1,)) / '(1,)type'.\n",
      "  _np_qint16 = np.dtype([(\"qint16\", np.int16, 1)])\n",
      "/Users/kirabreeden/opt/anaconda3/lib/python3.7/site-packages/tensorboard/compat/tensorflow_stub/dtypes.py:544: FutureWarning: Passing (type, 1) or '1type' as a synonym of type is deprecated; in a future version of numpy, it will be understood as (type, (1,)) / '(1,)type'.\n",
      "  _np_quint16 = np.dtype([(\"quint16\", np.uint16, 1)])\n",
      "/Users/kirabreeden/opt/anaconda3/lib/python3.7/site-packages/tensorboard/compat/tensorflow_stub/dtypes.py:545: FutureWarning: Passing (type, 1) or '1type' as a synonym of type is deprecated; in a future version of numpy, it will be understood as (type, (1,)) / '(1,)type'.\n",
      "  _np_qint32 = np.dtype([(\"qint32\", np.int32, 1)])\n",
      "/Users/kirabreeden/opt/anaconda3/lib/python3.7/site-packages/tensorboard/compat/tensorflow_stub/dtypes.py:550: FutureWarning: Passing (type, 1) or '1type' as a synonym of type is deprecated; in a future version of numpy, it will be understood as (type, (1,)) / '(1,)type'.\n",
      "  np_resource = np.dtype([(\"resource\", np.ubyte, 1)])\n"
     ]
    }
   ],
   "source": [
    "from datetime import datetime\n",
    "import tensorflow as tf\n",
    "from tensorflow import keras\n",
    "from tensorflow.keras import layers\n",
    "from tensorflow import set_random_seed\n",
    "from tensorflow.keras.optimizers import RMSprop\n",
    "from tensorflow.keras.preprocessing.text import Tokenizer\n",
    "from tensorflow.keras.preprocessing.sequence import pad_sequences \n",
    "# from tensorflow.keras.utils.vis_utils import plot_model\n",
    "from tensorflow.keras.models import Sequential\n",
    "from tensorflow.keras.utils import to_categorical\n",
    "# from tensorflow.keras.utils.vis_utils import plot_model\n",
    "from tensorflow.keras.layers import Dense\n",
    "from tensorflow.keras.layers import Flatten\n",
    "from tensorflow.keras.layers import Embedding\n",
    "from tensorflow.keras.layers import SimpleRNN\n",
    "from tensorflow.keras.layers import LSTM\n",
    "from tensorflow.keras.layers import Dropout\n",
    "# from tensorflow.keras.layers.convolutional import Conv1D\n",
    "# from tensorflow.keras.layers.convolutional import MaxPooling1D\n",
    "\n",
    "\n",
    "\n",
    "import re,string\n",
    "import nltk\n",
    "from nltk.corpus import stopwords\n",
    "from nltk.stem import PorterStemmer\n",
    "from nltk import ngrams, FreqDist\n",
    "from nltk.stem.wordnet import WordNetLemmatizer\n",
    "\n",
    "from sklearn.feature_extraction.text import TfidfVectorizer\n",
    "from sklearn.cluster import KMeans\n",
    "from sklearn.metrics.pairwise import cosine_similarity\n",
    "from sklearn.decomposition import TruncatedSVD, LatentDirichletAllocation\n",
    "from sklearn.svm import SVC\n",
    "from sklearn.naive_bayes import MultinomialNB\n",
    "from sklearn.linear_model import LogisticRegression\n",
    "\n",
    "from sklearn.preprocessing import LabelEncoder, OneHotEncoder, MinMaxScaler\n",
    "from sklearn.ensemble import RandomForestClassifier\n",
    "from sklearn.metrics import roc_auc_score, accuracy_score, confusion_matrix, mean_squared_error, r2_score\n",
    "from sklearn.model_selection import cross_val_score, StratifiedKFold, train_test_split\n",
    "from sklearn.tree import DecisionTreeClassifier\n",
    "import matplotlib.pyplot as plt\n",
    "from sklearn.model_selection import train_test_split, KFold\n",
    "\n",
    "# import gensim as gs\n",
    "# from gensim.models import Word2Vec,LdaMulticore, TfidfModel\n",
    "# from gensim import corpora\n",
    "# from gensim import similarities\n",
    "# from gensim.models.doc2vec import Doc2Vec, TaggedDocument\n",
    "# from gensim import corpora\n",
    "# from gensim.models import LsiModel,LdaModel\n",
    "\n",
    "from collections import Counter\n",
    "\n",
    "\n",
    "set_random_seed(2)"
   ]
  },
  {
   "cell_type": "code",
   "execution_count": 5,
   "metadata": {},
   "outputs": [],
   "source": [
    "# # Only run this once, they will be downloaded.\n",
    "# nltk.download('stopwords')\n",
    "# nltk.download('wordnet')"
   ]
  },
  {
   "cell_type": "code",
   "execution_count": null,
   "metadata": {},
   "outputs": [],
   "source": []
  },
  {
   "cell_type": "markdown",
   "metadata": {},
   "source": [
    "## Function Definitions"
   ]
  },
  {
   "cell_type": "code",
   "execution_count": 6,
   "metadata": {},
   "outputs": [],
   "source": [
    "#NLP stemming function\n",
    "def apply_stemming(in_text):\n",
    "    ps = PorterStemmer()\n",
    "    text = [ps.stem(word) for word in in_text]\n",
    "    return text"
   ]
  },
  {
   "cell_type": "code",
   "execution_count": 7,
   "metadata": {},
   "outputs": [],
   "source": [
    "# Pre-process dataset to apply Lemmatization\n",
    "def apply_lemmatization(in_text):\n",
    "    # Lemmatization\n",
    "    lem = WordNetLemmatizer()\n",
    "    text = \"\"\n",
    "    for word in in_text:\n",
    "        word = lem.lemmatize(word,\"v\")\n",
    "    return in_text"
   ]
  },
  {
   "cell_type": "code",
   "execution_count": 8,
   "metadata": {},
   "outputs": [],
   "source": [
    "#this is the data cleaning function \n",
    "def clean_doc(doc, uncleaned_vocab): \n",
    "    #split document into individual words\n",
    "    tokens=doc.split()\n",
    "    #define re. object\n",
    "    re_punc = re.compile('[%s]' % re.escape(string.punctuation))\n",
    "    #remove twitter handles\n",
    "    tokens = [re_punc.sub(\"(@[A-Za-z0-9_]+)\", w) for w in tokens]\n",
    "    # remove punctuation from each word\n",
    "    tokens = [re_punc.sub('', w) for w in tokens]\n",
    "    # remove remaining tokens that are not alphabetic\n",
    "    tokens = [word for word in tokens if word.isalpha()]\n",
    "    # filter out short tokens\n",
    "    tokens = [word for word in tokens if len(word) > 4]\n",
    "    #lowercase all words\n",
    "    tokens = [word.lower() for word in tokens]\n",
    "    # filter out stop words and any other unhelpful words\n",
    "    stop_words = set(stopwords.words('english'))\n",
    "    words_to_add = [\"would\"]\n",
    "    for word in words_to_add: \n",
    "        stop_words.add(word)\n",
    "    tokens = [w for w in tokens if not w in stop_words] \n",
    "    #add all words to uncleaned vocab\n",
    "    uncleaned_vocab.update(tokens)\n",
    "    #apply lemmatization\n",
    "    tokens = apply_lemmatization(tokens)\n",
    "    # apply stemming     \n",
    "    tokens = apply_stemming(tokens)\n",
    "#     return tokens, uncleaned_vocab\n",
    "    return tokens"
   ]
  },
  {
   "cell_type": "code",
   "execution_count": 9,
   "metadata": {},
   "outputs": [],
   "source": [
    "def final_processed_text(doc):\n",
    "    #this is a function to join the processed text back\n",
    "    ' '.join(doc)\n",
    "    return doc"
   ]
  },
  {
   "cell_type": "code",
   "execution_count": 10,
   "metadata": {},
   "outputs": [],
   "source": [
    "#this is a function to create the tfidf matrix\n",
    "def tfidf(corpus, titles, ngram_range = (1,1)):\n",
    "    Tfidf=TfidfVectorizer(ngram_range=(1,1))\n",
    "    TFIDF_matrix=Tfidf.fit_transform(corpus)     \n",
    "    #creating dataframe from TFIDF Matrix\n",
    "    words = Tfidf.get_feature_names()\n",
    "    matrix=pd.DataFrame(TFIDF_matrix.toarray(), columns=Tfidf.get_feature_names(), index=titles)\n",
    "\n",
    "    return matrix, words"
   ]
  },
  {
   "cell_type": "code",
   "execution_count": 11,
   "metadata": {},
   "outputs": [],
   "source": [
    "#this is a function to one hot encode the classes\n",
    "def One_Hot(variable):\n",
    "    LE=LabelEncoder()\n",
    "    LE.fit(variable)\n",
    "    Label1=LE.transform(variable)\n",
    "    OHE=OneHotEncoder()\n",
    "    labels=OHE.fit_transform(Label1.reshape(-1,1)).toarray()\n",
    "    return labels"
   ]
  },
  {
   "cell_type": "code",
   "execution_count": 12,
   "metadata": {},
   "outputs": [],
   "source": [
    "#this generates a list of values corresponding with the frequencies of words in the \"most_common\" object\n",
    "def get_vals(in_list): \n",
    "    vals = []\n",
    "    for i in in_list: \n",
    "        vals.append(i[1])\n",
    "    return vals"
   ]
  },
  {
   "cell_type": "code",
   "execution_count": 13,
   "metadata": {},
   "outputs": [],
   "source": [
    "#this generates a list of values corresponding with the words in the \"most_common\" object\n",
    "def get_keys(in_list): \n",
    "    keys = []\n",
    "    for i in in_list: \n",
    "        keys.append(i[0])\n",
    "    return keys"
   ]
  },
  {
   "cell_type": "code",
   "execution_count": 14,
   "metadata": {},
   "outputs": [],
   "source": [
    "def create_tokenizer(lines): \n",
    "    tokenizer = Tokenizer() \n",
    "    tokenizer.fit_on_texts(lines) \n",
    "    return tokenizer"
   ]
  },
  {
   "cell_type": "code",
   "execution_count": 15,
   "metadata": {},
   "outputs": [],
   "source": [
    "#function for seeing loss over time\n",
    "def plot_loss_metrics(history_dict, num_epochs, modelnum): \n",
    "    plot_title = 'Training and validation loss: Model ' + modelnum\n",
    "    loss_values = history_dict['loss'] \n",
    "    val_loss_values = history_dict['val_loss']\n",
    "    epochs = range(1, num_epochs + 1)\n",
    "    plt.plot(epochs, loss_values, 'bo', label='Training loss') \n",
    "    plt.plot(epochs, val_loss_values, 'b', label='Validation loss')\n",
    "    plt.title(plot_title) \n",
    "#     plt.ylim([0.5, 1.0])\n",
    "    plt.xlabel('Epochs')\n",
    "    plt.ylabel('Loss')\n",
    "    plt.legend()\n",
    "    return plt"
   ]
  },
  {
   "cell_type": "code",
   "execution_count": 16,
   "metadata": {},
   "outputs": [],
   "source": [
    "#function for seeing accuracy over time\n",
    "def plot_acc_metrics(history_dict, num_epochs, modelnum): \n",
    "    plot_title = 'Training and validation accuracy: Model ' + modelnum\n",
    "    plt.clf() \n",
    "    epochs = range(1, num_epochs + 1)\n",
    "    acc_values = history_dict['acc'] \n",
    "    val_acc_values = history_dict['val_acc']\n",
    "    plt.plot(epochs, acc_values, 'bo', label='Training acc') \n",
    "    plt.plot(epochs, val_acc_values, 'b', label='Validation acc') \n",
    "    plt.title(plot_title) \n",
    "    plt.xlabel('Epochs')\n",
    "#     plt.ylim([0.5, 1.0])\n",
    "    plt.ylabel('Accuracy') \n",
    "    plt.legend()\n",
    "    return plt"
   ]
  },
  {
   "cell_type": "code",
   "execution_count": 17,
   "metadata": {},
   "outputs": [],
   "source": [
    "num_neurons = 20\n",
    "batch_size = 30\n",
    "embedding_dims = 1\n",
    "num_epochs = 20\n",
    "\n",
    "#model definition for artificial neural nets (change final dimensions based on number of categories)\n",
    "def define_rnn(vocab_size, max_length, optimize, drop_percent, loss_func, model_name, num_bins): \n",
    "    model = Sequential()\n",
    "    model.add(SimpleRNN(num_neurons, return_sequences=True, input_shape=(max_length, embedding_dims)))\n",
    "    model.add(Dropout(drop_percent))\n",
    "    model.add(Flatten())\n",
    "    model.add(Dense(num_bins, activation='softmax')) #we have a multiclass classification so we use softmax not sigmoid\n",
    "    # compile network\n",
    "    model.compile(loss= loss_func, optimizer=optimize, metrics=['accuracy']) # summarize defined model\n",
    "    model.summary()\n",
    "    return model\n",
    "\n",
    "#model definition for artificial neural nets (change final dimensions based on number of categories)\n",
    "def define_lstm(vocab_size, max_length, optimize, drop_percent, loss_func, model_name, num_bins): \n",
    "    model = Sequential()\n",
    "    model.add(LSTM(num_neurons, return_sequences=True, input_shape=(max_length, embedding_dims)))\n",
    "    model.add(Dropout(drop_percent))\n",
    "    model.add(Flatten())\n",
    "    model.add(Dense(num_bins, activation='softmax')) #we have a multiclass classification so we use softmax not sigmoid\n",
    "    # compile network\n",
    "    model.compile(loss= loss_func, optimizer=optimize, metrics=['accuracy']) # summarize defined model\n",
    "    model.summary()\n",
    "    return model"
   ]
  },
  {
   "cell_type": "code",
   "execution_count": 18,
   "metadata": {},
   "outputs": [],
   "source": [
    "# results_df"
   ]
  },
  {
   "cell_type": "markdown",
   "metadata": {},
   "source": [
    "## Read in Data "
   ]
  },
  {
   "cell_type": "code",
   "execution_count": 19,
   "metadata": {},
   "outputs": [],
   "source": [
    "data0 = pd.read_json(\"Dutch_Tweets/dutch_tweets_chunk0.json\")\n",
    "data1 = pd.read_json(\"Dutch_Tweets/dutch_tweets_chunk1.json\")\n",
    "data2 = pd.read_json(\"Dutch_Tweets/dutch_tweets_chunk2.json\")\n",
    "data3 = pd.read_json(\"Dutch_Tweets/dutch_tweets_chunk3.json\")\n",
    "data4 = pd.read_json(\"Dutch_Tweets/dutch_tweets_chunk4.json\")\n",
    "data5 = pd.read_json(\"Dutch_Tweets/dutch_tweets_chunk5.json\")\n",
    "data6 = pd.read_json(\"Dutch_Tweets/dutch_tweets_chunk6.json\")\n",
    "data7 = pd.read_json(\"Dutch_Tweets/dutch_tweets_chunk7.json\")\n",
    "data8 = pd.read_json(\"Dutch_Tweets/dutch_tweets_chunk8.json\")\n",
    "data9 = pd.read_json(\"Dutch_Tweets/dutch_tweets_chunk9.json\")"
   ]
  },
  {
   "cell_type": "code",
   "execution_count": 20,
   "metadata": {},
   "outputs": [],
   "source": [
    "data = pd.concat([data0, data1, data2, data3, data4, data5, data6, data7, data8, data9])\n",
    "data = data.reset_index()"
   ]
  },
  {
   "cell_type": "code",
   "execution_count": 21,
   "metadata": {},
   "outputs": [
    {
     "data": {
      "text/html": [
       "<div>\n",
       "<style scoped>\n",
       "    .dataframe tbody tr th:only-of-type {\n",
       "        vertical-align: middle;\n",
       "    }\n",
       "\n",
       "    .dataframe tbody tr th {\n",
       "        vertical-align: top;\n",
       "    }\n",
       "\n",
       "    .dataframe thead th {\n",
       "        text-align: right;\n",
       "    }\n",
       "</style>\n",
       "<table border=\"1\" class=\"dataframe\">\n",
       "  <thead>\n",
       "    <tr style=\"text-align: right;\">\n",
       "      <th></th>\n",
       "      <th>index</th>\n",
       "      <th>full_text</th>\n",
       "      <th>text_translation</th>\n",
       "      <th>created_at</th>\n",
       "      <th>screen_name</th>\n",
       "      <th>description</th>\n",
       "      <th>desc_translation</th>\n",
       "      <th>weekofyear</th>\n",
       "      <th>weekday</th>\n",
       "      <th>day</th>\n",
       "      <th>...</th>\n",
       "      <th>point</th>\n",
       "      <th>latitude</th>\n",
       "      <th>longitude</th>\n",
       "      <th>altitude</th>\n",
       "      <th>province</th>\n",
       "      <th>hisco_standard</th>\n",
       "      <th>hisco_code</th>\n",
       "      <th>industry</th>\n",
       "      <th>sentiment_pattern</th>\n",
       "      <th>subjective_pattern</th>\n",
       "    </tr>\n",
       "  </thead>\n",
       "  <tbody>\n",
       "    <tr>\n",
       "      <td>0</td>\n",
       "      <td>0</td>\n",
       "      <td>@pflegearzt @Friedelkorn @LAguja44 Pardon, wol...</td>\n",
       "      <td>@pflegearzt @Friedelkorn @ LAguja44 Pardon wol...</td>\n",
       "      <td>2020-03-09 12:26:29</td>\n",
       "      <td>TheoRettich</td>\n",
       "      <td>I ❤️science, therefore a Commie.   ☭ FALGSC: P...</td>\n",
       "      <td>I ❤️science, Therefore a Commie. ☭ FALGSC: Par...</td>\n",
       "      <td>11.0</td>\n",
       "      <td>0.0</td>\n",
       "      <td>9.0</td>\n",
       "      <td>...</td>\n",
       "      <td>(52.5001698, 5.7480821, 0.0)</td>\n",
       "      <td>52.50017</td>\n",
       "      <td>5.748082</td>\n",
       "      <td>0.0</td>\n",
       "      <td>Flevoland</td>\n",
       "      <td>None</td>\n",
       "      <td>None</td>\n",
       "      <td>False</td>\n",
       "      <td>0.0</td>\n",
       "      <td>0.0</td>\n",
       "    </tr>\n",
       "    <tr>\n",
       "      <td>1</td>\n",
       "      <td>1</td>\n",
       "      <td>RT @grantshapps: Aviation demand is reduced du...</td>\n",
       "      <td>RT @grantshapps: Aviation demand is reduced du...</td>\n",
       "      <td>2020-03-09 12:26:34</td>\n",
       "      <td>davidiwanow</td>\n",
       "      <td>I tweet a lot but love to engage &amp; converse. P...</td>\n",
       "      <td>I tweet a lot but love to engage and converse....</td>\n",
       "      <td>11.0</td>\n",
       "      <td>0.0</td>\n",
       "      <td>9.0</td>\n",
       "      <td>...</td>\n",
       "      <td>(52.3727598, 4.8936041, 0.0)</td>\n",
       "      <td>52.37276</td>\n",
       "      <td>4.893604</td>\n",
       "      <td>0.0</td>\n",
       "      <td>Noord-Holland</td>\n",
       "      <td>None</td>\n",
       "      <td>None</td>\n",
       "      <td>False</td>\n",
       "      <td>0.0</td>\n",
       "      <td>0.0</td>\n",
       "    </tr>\n",
       "    <tr>\n",
       "      <td>2</td>\n",
       "      <td>2</td>\n",
       "      <td>RT @DDStandaard: De droom van D66 wordt werkel...</td>\n",
       "      <td>RT @DDStandaard: The D66 dream come true: COVI...</td>\n",
       "      <td>2020-03-09 12:26:37</td>\n",
       "      <td>EricL65</td>\n",
       "      <td>None</td>\n",
       "      <td>None</td>\n",
       "      <td>11.0</td>\n",
       "      <td>0.0</td>\n",
       "      <td>9.0</td>\n",
       "      <td>...</td>\n",
       "      <td>None</td>\n",
       "      <td>NaN</td>\n",
       "      <td>NaN</td>\n",
       "      <td>0.0</td>\n",
       "      <td>False</td>\n",
       "      <td>None</td>\n",
       "      <td>None</td>\n",
       "      <td>False</td>\n",
       "      <td>0.0</td>\n",
       "      <td>0.0</td>\n",
       "    </tr>\n",
       "    <tr>\n",
       "      <td>3</td>\n",
       "      <td>3</td>\n",
       "      <td>RT @DDStandaard: De droom van D66 wordt werkel...</td>\n",
       "      <td>RT @DDStandaard: The D66 dream come true: COVI...</td>\n",
       "      <td>2020-03-09 12:26:37</td>\n",
       "      <td>EricL65</td>\n",
       "      <td>None</td>\n",
       "      <td>None</td>\n",
       "      <td>11.0</td>\n",
       "      <td>0.0</td>\n",
       "      <td>9.0</td>\n",
       "      <td>...</td>\n",
       "      <td>None</td>\n",
       "      <td>NaN</td>\n",
       "      <td>NaN</td>\n",
       "      <td>0.0</td>\n",
       "      <td>False</td>\n",
       "      <td>None</td>\n",
       "      <td>None</td>\n",
       "      <td>False</td>\n",
       "      <td>0.0</td>\n",
       "      <td>0.0</td>\n",
       "    </tr>\n",
       "    <tr>\n",
       "      <td>4</td>\n",
       "      <td>4</td>\n",
       "      <td>De droom van D66 wordt werkelijkheid: COVID-19...</td>\n",
       "      <td>The D66 dream becomes reality: COVID-19 super ...</td>\n",
       "      <td>2020-03-09 12:26:47</td>\n",
       "      <td>EhrErwin</td>\n",
       "      <td>Budget-Life Coach. Time management Coaching. b...</td>\n",
       "      <td>Budget-Life Coach. Time management coaching. h...</td>\n",
       "      <td>11.0</td>\n",
       "      <td>0.0</td>\n",
       "      <td>9.0</td>\n",
       "      <td>...</td>\n",
       "      <td>(52.3727598, 4.8936041, 0.0)</td>\n",
       "      <td>52.37276</td>\n",
       "      <td>4.893604</td>\n",
       "      <td>0.0</td>\n",
       "      <td>Noord-Holland</td>\n",
       "      <td>None</td>\n",
       "      <td>None</td>\n",
       "      <td>False</td>\n",
       "      <td>0.0</td>\n",
       "      <td>0.0</td>\n",
       "    </tr>\n",
       "  </tbody>\n",
       "</table>\n",
       "<p>5 rows × 24 columns</p>\n",
       "</div>"
      ],
      "text/plain": [
       "   index                                          full_text  \\\n",
       "0      0  @pflegearzt @Friedelkorn @LAguja44 Pardon, wol...   \n",
       "1      1  RT @grantshapps: Aviation demand is reduced du...   \n",
       "2      2  RT @DDStandaard: De droom van D66 wordt werkel...   \n",
       "3      3  RT @DDStandaard: De droom van D66 wordt werkel...   \n",
       "4      4  De droom van D66 wordt werkelijkheid: COVID-19...   \n",
       "\n",
       "                                    text_translation           created_at  \\\n",
       "0  @pflegearzt @Friedelkorn @ LAguja44 Pardon wol...  2020-03-09 12:26:29   \n",
       "1  RT @grantshapps: Aviation demand is reduced du...  2020-03-09 12:26:34   \n",
       "2  RT @DDStandaard: The D66 dream come true: COVI...  2020-03-09 12:26:37   \n",
       "3  RT @DDStandaard: The D66 dream come true: COVI...  2020-03-09 12:26:37   \n",
       "4  The D66 dream becomes reality: COVID-19 super ...  2020-03-09 12:26:47   \n",
       "\n",
       "   screen_name                                        description  \\\n",
       "0  TheoRettich  I ❤️science, therefore a Commie.   ☭ FALGSC: P...   \n",
       "1  davidiwanow  I tweet a lot but love to engage & converse. P...   \n",
       "2      EricL65                                               None   \n",
       "3      EricL65                                               None   \n",
       "4     EhrErwin  Budget-Life Coach. Time management Coaching. b...   \n",
       "\n",
       "                                    desc_translation  weekofyear  weekday  \\\n",
       "0  I ❤️science, Therefore a Commie. ☭ FALGSC: Par...        11.0      0.0   \n",
       "1  I tweet a lot but love to engage and converse....        11.0      0.0   \n",
       "2                                               None        11.0      0.0   \n",
       "3                                               None        11.0      0.0   \n",
       "4  Budget-Life Coach. Time management coaching. h...        11.0      0.0   \n",
       "\n",
       "   day  ...                         point  latitude longitude altitude  \\\n",
       "0  9.0  ...  (52.5001698, 5.7480821, 0.0)  52.50017  5.748082      0.0   \n",
       "1  9.0  ...  (52.3727598, 4.8936041, 0.0)  52.37276  4.893604      0.0   \n",
       "2  9.0  ...                          None       NaN       NaN      0.0   \n",
       "3  9.0  ...                          None       NaN       NaN      0.0   \n",
       "4  9.0  ...  (52.3727598, 4.8936041, 0.0)  52.37276  4.893604      0.0   \n",
       "\n",
       "        province  hisco_standard  hisco_code  industry sentiment_pattern  \\\n",
       "0      Flevoland            None        None     False               0.0   \n",
       "1  Noord-Holland            None        None     False               0.0   \n",
       "2          False            None        None     False               0.0   \n",
       "3          False            None        None     False               0.0   \n",
       "4  Noord-Holland            None        None     False               0.0   \n",
       "\n",
       "  subjective_pattern  \n",
       "0                0.0  \n",
       "1                0.0  \n",
       "2                0.0  \n",
       "3                0.0  \n",
       "4                0.0  \n",
       "\n",
       "[5 rows x 24 columns]"
      ]
     },
     "execution_count": 21,
     "metadata": {},
     "output_type": "execute_result"
    }
   ],
   "source": [
    "data.head()"
   ]
  },
  {
   "cell_type": "markdown",
   "metadata": {},
   "source": [
    "## Preprocessing"
   ]
  },
  {
   "cell_type": "code",
   "execution_count": 22,
   "metadata": {},
   "outputs": [
    {
     "data": {
      "text/plain": [
       "65843"
      ]
     },
     "execution_count": 22,
     "metadata": {},
     "output_type": "execute_result"
    }
   ],
   "source": [
    "data.screen_name.nunique()"
   ]
  },
  {
   "cell_type": "code",
   "execution_count": 23,
   "metadata": {},
   "outputs": [],
   "source": [
    "data = data.drop(columns = ['index'])"
   ]
  },
  {
   "cell_type": "code",
   "execution_count": 24,
   "metadata": {},
   "outputs": [],
   "source": [
    "data_use = data[['full_text', 'text_translation', 'sentiment_pattern', 'subjective_pattern']]"
   ]
  },
  {
   "cell_type": "code",
   "execution_count": 25,
   "metadata": {},
   "outputs": [
    {
     "data": {
      "text/html": [
       "<div>\n",
       "<style scoped>\n",
       "    .dataframe tbody tr th:only-of-type {\n",
       "        vertical-align: middle;\n",
       "    }\n",
       "\n",
       "    .dataframe tbody tr th {\n",
       "        vertical-align: top;\n",
       "    }\n",
       "\n",
       "    .dataframe thead th {\n",
       "        text-align: right;\n",
       "    }\n",
       "</style>\n",
       "<table border=\"1\" class=\"dataframe\">\n",
       "  <thead>\n",
       "    <tr style=\"text-align: right;\">\n",
       "      <th></th>\n",
       "      <th>full_text</th>\n",
       "      <th>text_translation</th>\n",
       "      <th>sentiment_pattern</th>\n",
       "      <th>subjective_pattern</th>\n",
       "    </tr>\n",
       "  </thead>\n",
       "  <tbody>\n",
       "    <tr>\n",
       "      <td>0</td>\n",
       "      <td>@pflegearzt @Friedelkorn @LAguja44 Pardon, wol...</td>\n",
       "      <td>@pflegearzt @Friedelkorn @ LAguja44 Pardon wol...</td>\n",
       "      <td>0.0</td>\n",
       "      <td>0.0</td>\n",
       "    </tr>\n",
       "    <tr>\n",
       "      <td>1</td>\n",
       "      <td>RT @grantshapps: Aviation demand is reduced du...</td>\n",
       "      <td>RT @grantshapps: Aviation demand is reduced du...</td>\n",
       "      <td>0.0</td>\n",
       "      <td>0.0</td>\n",
       "    </tr>\n",
       "    <tr>\n",
       "      <td>2</td>\n",
       "      <td>RT @DDStandaard: De droom van D66 wordt werkel...</td>\n",
       "      <td>RT @DDStandaard: The D66 dream come true: COVI...</td>\n",
       "      <td>0.0</td>\n",
       "      <td>0.0</td>\n",
       "    </tr>\n",
       "    <tr>\n",
       "      <td>3</td>\n",
       "      <td>RT @DDStandaard: De droom van D66 wordt werkel...</td>\n",
       "      <td>RT @DDStandaard: The D66 dream come true: COVI...</td>\n",
       "      <td>0.0</td>\n",
       "      <td>0.0</td>\n",
       "    </tr>\n",
       "    <tr>\n",
       "      <td>4</td>\n",
       "      <td>De droom van D66 wordt werkelijkheid: COVID-19...</td>\n",
       "      <td>The D66 dream becomes reality: COVID-19 super ...</td>\n",
       "      <td>0.0</td>\n",
       "      <td>0.0</td>\n",
       "    </tr>\n",
       "  </tbody>\n",
       "</table>\n",
       "</div>"
      ],
      "text/plain": [
       "                                           full_text  \\\n",
       "0  @pflegearzt @Friedelkorn @LAguja44 Pardon, wol...   \n",
       "1  RT @grantshapps: Aviation demand is reduced du...   \n",
       "2  RT @DDStandaard: De droom van D66 wordt werkel...   \n",
       "3  RT @DDStandaard: De droom van D66 wordt werkel...   \n",
       "4  De droom van D66 wordt werkelijkheid: COVID-19...   \n",
       "\n",
       "                                    text_translation  sentiment_pattern  \\\n",
       "0  @pflegearzt @Friedelkorn @ LAguja44 Pardon wol...                0.0   \n",
       "1  RT @grantshapps: Aviation demand is reduced du...                0.0   \n",
       "2  RT @DDStandaard: The D66 dream come true: COVI...                0.0   \n",
       "3  RT @DDStandaard: The D66 dream come true: COVI...                0.0   \n",
       "4  The D66 dream becomes reality: COVID-19 super ...                0.0   \n",
       "\n",
       "   subjective_pattern  \n",
       "0                 0.0  \n",
       "1                 0.0  \n",
       "2                 0.0  \n",
       "3                 0.0  \n",
       "4                 0.0  "
      ]
     },
     "execution_count": 25,
     "metadata": {},
     "output_type": "execute_result"
    }
   ],
   "source": [
    "data_use.head()"
   ]
  },
  {
   "cell_type": "code",
   "execution_count": 26,
   "metadata": {},
   "outputs": [
    {
     "name": "stderr",
     "output_type": "stream",
     "text": [
      "/Users/kirabreeden/opt/anaconda3/lib/python3.7/site-packages/ipykernel_launcher.py:4: SettingWithCopyWarning: \n",
      "A value is trying to be set on a copy of a slice from a DataFrame.\n",
      "Try using .loc[row_indexer,col_indexer] = value instead\n",
      "\n",
      "See the caveats in the documentation: http://pandas.pydata.org/pandas-docs/stable/user_guide/indexing.html#returning-a-view-versus-a-copy\n",
      "  after removing the cwd from sys.path.\n"
     ]
    }
   ],
   "source": [
    "#create bins for each 0.1 range\n",
    "bins = [-1.0, -0.9, -0.8, -0.7, -0.6, -0.5, -0.4, -0.3, -0.2, -0.1, 0, 0.1, 0.2, 0.3, 0.4, 0.5, 0.6, 0.7, 0.8, 0.9, 1.0]\n",
    "# labels = [1,2,3,4,5,6]\n",
    "data_use['binned_sentiment'] = pd.cut(data_use['sentiment_pattern'], bins)"
   ]
  },
  {
   "cell_type": "code",
   "execution_count": 27,
   "metadata": {},
   "outputs": [
    {
     "name": "stderr",
     "output_type": "stream",
     "text": [
      "/Users/kirabreeden/opt/anaconda3/lib/python3.7/site-packages/ipykernel_launcher.py:17: SettingWithCopyWarning: \n",
      "A value is trying to be set on a copy of a slice from a DataFrame.\n",
      "Try using .loc[row_indexer,col_indexer] = value instead\n",
      "\n",
      "See the caveats in the documentation: http://pandas.pydata.org/pandas-docs/stable/user_guide/indexing.html#returning-a-view-versus-a-copy\n"
     ]
    }
   ],
   "source": [
    "#create bins for classification labels \n",
    "\n",
    "#the following options can be commented out depending on which labeling method we choose. \n",
    "\n",
    "# #this is a choice of four bins (strongly negative, moderately negative, moderately positive, and strongly positive)\n",
    "# bins = [-1.0, -0.5, 0, 0.5, 1.0]\n",
    "# labes = [0, 1, 2, 3]\n",
    "# num_bins = 4 #this is for the model def later\n",
    "\n",
    "\n",
    "#this is a choice of five bins (strongly negative, moderately negative, indifferent, moderately positive, and strongly positive)\n",
    "bins = [-1.0, -0.6, -0.2, 0.2, 0.6, 1.0]\n",
    "labes = [0, 1, 2, 3, 4]\n",
    "num_bins = 5 #this is for the model def later\n",
    "\n",
    "\n",
    "data_use['binned_sentiment_labels'] = pd.cut(data_use['sentiment_pattern'], bins, labels = labes)"
   ]
  },
  {
   "cell_type": "code",
   "execution_count": 28,
   "metadata": {},
   "outputs": [
    {
     "data": {
      "text/html": [
       "<div>\n",
       "<style scoped>\n",
       "    .dataframe tbody tr th:only-of-type {\n",
       "        vertical-align: middle;\n",
       "    }\n",
       "\n",
       "    .dataframe tbody tr th {\n",
       "        vertical-align: top;\n",
       "    }\n",
       "\n",
       "    .dataframe thead th {\n",
       "        text-align: right;\n",
       "    }\n",
       "</style>\n",
       "<table border=\"1\" class=\"dataframe\">\n",
       "  <thead>\n",
       "    <tr style=\"text-align: right;\">\n",
       "      <th></th>\n",
       "      <th>full_text</th>\n",
       "      <th>text_translation</th>\n",
       "      <th>sentiment_pattern</th>\n",
       "      <th>subjective_pattern</th>\n",
       "      <th>binned_sentiment</th>\n",
       "      <th>binned_sentiment_labels</th>\n",
       "    </tr>\n",
       "  </thead>\n",
       "  <tbody>\n",
       "    <tr>\n",
       "      <td>0</td>\n",
       "      <td>@pflegearzt @Friedelkorn @LAguja44 Pardon, wol...</td>\n",
       "      <td>@pflegearzt @Friedelkorn @ LAguja44 Pardon wol...</td>\n",
       "      <td>0.0</td>\n",
       "      <td>0.0</td>\n",
       "      <td>(-0.1, 0.0]</td>\n",
       "      <td>2</td>\n",
       "    </tr>\n",
       "    <tr>\n",
       "      <td>1</td>\n",
       "      <td>RT @grantshapps: Aviation demand is reduced du...</td>\n",
       "      <td>RT @grantshapps: Aviation demand is reduced du...</td>\n",
       "      <td>0.0</td>\n",
       "      <td>0.0</td>\n",
       "      <td>(-0.1, 0.0]</td>\n",
       "      <td>2</td>\n",
       "    </tr>\n",
       "    <tr>\n",
       "      <td>2</td>\n",
       "      <td>RT @DDStandaard: De droom van D66 wordt werkel...</td>\n",
       "      <td>RT @DDStandaard: The D66 dream come true: COVI...</td>\n",
       "      <td>0.0</td>\n",
       "      <td>0.0</td>\n",
       "      <td>(-0.1, 0.0]</td>\n",
       "      <td>2</td>\n",
       "    </tr>\n",
       "    <tr>\n",
       "      <td>3</td>\n",
       "      <td>RT @DDStandaard: De droom van D66 wordt werkel...</td>\n",
       "      <td>RT @DDStandaard: The D66 dream come true: COVI...</td>\n",
       "      <td>0.0</td>\n",
       "      <td>0.0</td>\n",
       "      <td>(-0.1, 0.0]</td>\n",
       "      <td>2</td>\n",
       "    </tr>\n",
       "    <tr>\n",
       "      <td>4</td>\n",
       "      <td>De droom van D66 wordt werkelijkheid: COVID-19...</td>\n",
       "      <td>The D66 dream becomes reality: COVID-19 super ...</td>\n",
       "      <td>0.0</td>\n",
       "      <td>0.0</td>\n",
       "      <td>(-0.1, 0.0]</td>\n",
       "      <td>2</td>\n",
       "    </tr>\n",
       "  </tbody>\n",
       "</table>\n",
       "</div>"
      ],
      "text/plain": [
       "                                           full_text  \\\n",
       "0  @pflegearzt @Friedelkorn @LAguja44 Pardon, wol...   \n",
       "1  RT @grantshapps: Aviation demand is reduced du...   \n",
       "2  RT @DDStandaard: De droom van D66 wordt werkel...   \n",
       "3  RT @DDStandaard: De droom van D66 wordt werkel...   \n",
       "4  De droom van D66 wordt werkelijkheid: COVID-19...   \n",
       "\n",
       "                                    text_translation  sentiment_pattern  \\\n",
       "0  @pflegearzt @Friedelkorn @ LAguja44 Pardon wol...                0.0   \n",
       "1  RT @grantshapps: Aviation demand is reduced du...                0.0   \n",
       "2  RT @DDStandaard: The D66 dream come true: COVI...                0.0   \n",
       "3  RT @DDStandaard: The D66 dream come true: COVI...                0.0   \n",
       "4  The D66 dream becomes reality: COVID-19 super ...                0.0   \n",
       "\n",
       "   subjective_pattern binned_sentiment binned_sentiment_labels  \n",
       "0                 0.0      (-0.1, 0.0]                       2  \n",
       "1                 0.0      (-0.1, 0.0]                       2  \n",
       "2                 0.0      (-0.1, 0.0]                       2  \n",
       "3                 0.0      (-0.1, 0.0]                       2  \n",
       "4                 0.0      (-0.1, 0.0]                       2  "
      ]
     },
     "execution_count": 28,
     "metadata": {},
     "output_type": "execute_result"
    }
   ],
   "source": [
    "data_use.head()"
   ]
  },
  {
   "cell_type": "code",
   "execution_count": 29,
   "metadata": {},
   "outputs": [],
   "source": [
    "# data_use['sentiment_pattern'] = data_use['sentiment_pattern'].apply(pd.to_numeric)"
   ]
  },
  {
   "cell_type": "code",
   "execution_count": 30,
   "metadata": {},
   "outputs": [],
   "source": [
    "data_new = data_use.dropna(0)"
   ]
  },
  {
   "cell_type": "code",
   "execution_count": 31,
   "metadata": {},
   "outputs": [],
   "source": [
    "dirty_vocab = Counter()"
   ]
  },
  {
   "cell_type": "code",
   "execution_count": 32,
   "metadata": {},
   "outputs": [
    {
     "name": "stderr",
     "output_type": "stream",
     "text": [
      "/Users/kirabreeden/opt/anaconda3/lib/python3.7/site-packages/ipykernel_launcher.py:2: SettingWithCopyWarning: \n",
      "A value is trying to be set on a copy of a slice from a DataFrame.\n",
      "Try using .loc[row_indexer,col_indexer] = value instead\n",
      "\n",
      "See the caveats in the documentation: http://pandas.pydata.org/pandas-docs/stable/user_guide/indexing.html#returning-a-view-versus-a-copy\n",
      "  \n"
     ]
    }
   ],
   "source": [
    "#adding two columns to the dataframe to store the processed text and tokenized text\n",
    "data_new['processed_text'] = data_new['text_translation'].apply(lambda x: clean_doc(x, dirty_vocab))"
   ]
  },
  {
   "cell_type": "code",
   "execution_count": 33,
   "metadata": {},
   "outputs": [
    {
     "data": {
      "text/html": [
       "<div>\n",
       "<style scoped>\n",
       "    .dataframe tbody tr th:only-of-type {\n",
       "        vertical-align: middle;\n",
       "    }\n",
       "\n",
       "    .dataframe tbody tr th {\n",
       "        vertical-align: top;\n",
       "    }\n",
       "\n",
       "    .dataframe thead th {\n",
       "        text-align: right;\n",
       "    }\n",
       "</style>\n",
       "<table border=\"1\" class=\"dataframe\">\n",
       "  <thead>\n",
       "    <tr style=\"text-align: right;\">\n",
       "      <th></th>\n",
       "      <th>full_text</th>\n",
       "      <th>text_translation</th>\n",
       "      <th>sentiment_pattern</th>\n",
       "      <th>subjective_pattern</th>\n",
       "      <th>binned_sentiment</th>\n",
       "      <th>binned_sentiment_labels</th>\n",
       "      <th>processed_text</th>\n",
       "    </tr>\n",
       "  </thead>\n",
       "  <tbody>\n",
       "    <tr>\n",
       "      <td>0</td>\n",
       "      <td>@pflegearzt @Friedelkorn @LAguja44 Pardon, wol...</td>\n",
       "      <td>@pflegearzt @Friedelkorn @ LAguja44 Pardon wol...</td>\n",
       "      <td>0.0</td>\n",
       "      <td>0.0</td>\n",
       "      <td>(-0.1, 0.0]</td>\n",
       "      <td>2</td>\n",
       "      <td>[pardon, wollt, zitieren, eigentlich, mein, me...</td>\n",
       "    </tr>\n",
       "    <tr>\n",
       "      <td>1</td>\n",
       "      <td>RT @grantshapps: Aviation demand is reduced du...</td>\n",
       "      <td>RT @grantshapps: Aviation demand is reduced du...</td>\n",
       "      <td>0.0</td>\n",
       "      <td>0.0</td>\n",
       "      <td>(-0.1, 0.0]</td>\n",
       "      <td>2</td>\n",
       "      <td>[aviat, demand, reduc, airlin, forc, avoid, lose]</td>\n",
       "    </tr>\n",
       "    <tr>\n",
       "      <td>2</td>\n",
       "      <td>RT @DDStandaard: De droom van D66 wordt werkel...</td>\n",
       "      <td>RT @DDStandaard: The D66 dream come true: COVI...</td>\n",
       "      <td>0.0</td>\n",
       "      <td>0.0</td>\n",
       "      <td>(-0.1, 0.0]</td>\n",
       "      <td>2</td>\n",
       "      <td>[dream, super, lethal, elderli]</td>\n",
       "    </tr>\n",
       "    <tr>\n",
       "      <td>3</td>\n",
       "      <td>RT @DDStandaard: De droom van D66 wordt werkel...</td>\n",
       "      <td>RT @DDStandaard: The D66 dream come true: COVI...</td>\n",
       "      <td>0.0</td>\n",
       "      <td>0.0</td>\n",
       "      <td>(-0.1, 0.0]</td>\n",
       "      <td>2</td>\n",
       "      <td>[dream, super, lethal, elderli]</td>\n",
       "    </tr>\n",
       "    <tr>\n",
       "      <td>4</td>\n",
       "      <td>De droom van D66 wordt werkelijkheid: COVID-19...</td>\n",
       "      <td>The D66 dream becomes reality: COVID-19 super ...</td>\n",
       "      <td>0.0</td>\n",
       "      <td>0.0</td>\n",
       "      <td>(-0.1, 0.0]</td>\n",
       "      <td>2</td>\n",
       "      <td>[dream, becom, super, deadli, elderli]</td>\n",
       "    </tr>\n",
       "  </tbody>\n",
       "</table>\n",
       "</div>"
      ],
      "text/plain": [
       "                                           full_text  \\\n",
       "0  @pflegearzt @Friedelkorn @LAguja44 Pardon, wol...   \n",
       "1  RT @grantshapps: Aviation demand is reduced du...   \n",
       "2  RT @DDStandaard: De droom van D66 wordt werkel...   \n",
       "3  RT @DDStandaard: De droom van D66 wordt werkel...   \n",
       "4  De droom van D66 wordt werkelijkheid: COVID-19...   \n",
       "\n",
       "                                    text_translation  sentiment_pattern  \\\n",
       "0  @pflegearzt @Friedelkorn @ LAguja44 Pardon wol...                0.0   \n",
       "1  RT @grantshapps: Aviation demand is reduced du...                0.0   \n",
       "2  RT @DDStandaard: The D66 dream come true: COVI...                0.0   \n",
       "3  RT @DDStandaard: The D66 dream come true: COVI...                0.0   \n",
       "4  The D66 dream becomes reality: COVID-19 super ...                0.0   \n",
       "\n",
       "   subjective_pattern binned_sentiment binned_sentiment_labels  \\\n",
       "0                 0.0      (-0.1, 0.0]                       2   \n",
       "1                 0.0      (-0.1, 0.0]                       2   \n",
       "2                 0.0      (-0.1, 0.0]                       2   \n",
       "3                 0.0      (-0.1, 0.0]                       2   \n",
       "4                 0.0      (-0.1, 0.0]                       2   \n",
       "\n",
       "                                      processed_text  \n",
       "0  [pardon, wollt, zitieren, eigentlich, mein, me...  \n",
       "1  [aviat, demand, reduc, airlin, forc, avoid, lose]  \n",
       "2                    [dream, super, lethal, elderli]  \n",
       "3                    [dream, super, lethal, elderli]  \n",
       "4             [dream, becom, super, deadli, elderli]  "
      ]
     },
     "execution_count": 33,
     "metadata": {},
     "output_type": "execute_result"
    }
   ],
   "source": [
    "data_new.head()"
   ]
  },
  {
   "cell_type": "code",
   "execution_count": 34,
   "metadata": {},
   "outputs": [],
   "source": [
    "# data_new['processed_text'][0]"
   ]
  },
  {
   "cell_type": "code",
   "execution_count": 35,
   "metadata": {},
   "outputs": [],
   "source": [
    "# dirty_vocab"
   ]
  },
  {
   "cell_type": "code",
   "execution_count": 36,
   "metadata": {},
   "outputs": [],
   "source": [
    "# #creating final processed text variables for matrix creation\n",
    "# final_processed_text = [' '.join(x) for x in data_new['processed_text'].tolist()]\n",
    "# titles = data_new.index.tolist()\n",
    "# processed_text = data_new['processed_text'].tolist()\n",
    "\n",
    "# #generate tfidf for analysis\n",
    "# tfidf_matrix, terms = tfidf(final_processed_text, titles, ngram_range = (1,4))"
   ]
  },
  {
   "cell_type": "code",
   "execution_count": 37,
   "metadata": {},
   "outputs": [
    {
     "data": {
      "text/html": [
       "<div>\n",
       "<style scoped>\n",
       "    .dataframe tbody tr th:only-of-type {\n",
       "        vertical-align: middle;\n",
       "    }\n",
       "\n",
       "    .dataframe tbody tr th {\n",
       "        vertical-align: top;\n",
       "    }\n",
       "\n",
       "    .dataframe thead th {\n",
       "        text-align: right;\n",
       "    }\n",
       "</style>\n",
       "<table border=\"1\" class=\"dataframe\">\n",
       "  <thead>\n",
       "    <tr style=\"text-align: right;\">\n",
       "      <th></th>\n",
       "      <th>full_text</th>\n",
       "      <th>text_translation</th>\n",
       "      <th>sentiment_pattern</th>\n",
       "      <th>subjective_pattern</th>\n",
       "      <th>binned_sentiment</th>\n",
       "      <th>binned_sentiment_labels</th>\n",
       "      <th>processed_text</th>\n",
       "    </tr>\n",
       "  </thead>\n",
       "  <tbody>\n",
       "    <tr>\n",
       "      <td>0</td>\n",
       "      <td>@pflegearzt @Friedelkorn @LAguja44 Pardon, wol...</td>\n",
       "      <td>@pflegearzt @Friedelkorn @ LAguja44 Pardon wol...</td>\n",
       "      <td>0.0</td>\n",
       "      <td>0.0</td>\n",
       "      <td>(-0.1, 0.0]</td>\n",
       "      <td>2</td>\n",
       "      <td>[pardon, wollt, zitieren, eigentlich, mein, me...</td>\n",
       "    </tr>\n",
       "    <tr>\n",
       "      <td>1</td>\n",
       "      <td>RT @grantshapps: Aviation demand is reduced du...</td>\n",
       "      <td>RT @grantshapps: Aviation demand is reduced du...</td>\n",
       "      <td>0.0</td>\n",
       "      <td>0.0</td>\n",
       "      <td>(-0.1, 0.0]</td>\n",
       "      <td>2</td>\n",
       "      <td>[aviat, demand, reduc, airlin, forc, avoid, lose]</td>\n",
       "    </tr>\n",
       "    <tr>\n",
       "      <td>2</td>\n",
       "      <td>RT @DDStandaard: De droom van D66 wordt werkel...</td>\n",
       "      <td>RT @DDStandaard: The D66 dream come true: COVI...</td>\n",
       "      <td>0.0</td>\n",
       "      <td>0.0</td>\n",
       "      <td>(-0.1, 0.0]</td>\n",
       "      <td>2</td>\n",
       "      <td>[dream, super, lethal, elderli]</td>\n",
       "    </tr>\n",
       "    <tr>\n",
       "      <td>3</td>\n",
       "      <td>RT @DDStandaard: De droom van D66 wordt werkel...</td>\n",
       "      <td>RT @DDStandaard: The D66 dream come true: COVI...</td>\n",
       "      <td>0.0</td>\n",
       "      <td>0.0</td>\n",
       "      <td>(-0.1, 0.0]</td>\n",
       "      <td>2</td>\n",
       "      <td>[dream, super, lethal, elderli]</td>\n",
       "    </tr>\n",
       "    <tr>\n",
       "      <td>4</td>\n",
       "      <td>De droom van D66 wordt werkelijkheid: COVID-19...</td>\n",
       "      <td>The D66 dream becomes reality: COVID-19 super ...</td>\n",
       "      <td>0.0</td>\n",
       "      <td>0.0</td>\n",
       "      <td>(-0.1, 0.0]</td>\n",
       "      <td>2</td>\n",
       "      <td>[dream, becom, super, deadli, elderli]</td>\n",
       "    </tr>\n",
       "  </tbody>\n",
       "</table>\n",
       "</div>"
      ],
      "text/plain": [
       "                                           full_text  \\\n",
       "0  @pflegearzt @Friedelkorn @LAguja44 Pardon, wol...   \n",
       "1  RT @grantshapps: Aviation demand is reduced du...   \n",
       "2  RT @DDStandaard: De droom van D66 wordt werkel...   \n",
       "3  RT @DDStandaard: De droom van D66 wordt werkel...   \n",
       "4  De droom van D66 wordt werkelijkheid: COVID-19...   \n",
       "\n",
       "                                    text_translation  sentiment_pattern  \\\n",
       "0  @pflegearzt @Friedelkorn @ LAguja44 Pardon wol...                0.0   \n",
       "1  RT @grantshapps: Aviation demand is reduced du...                0.0   \n",
       "2  RT @DDStandaard: The D66 dream come true: COVI...                0.0   \n",
       "3  RT @DDStandaard: The D66 dream come true: COVI...                0.0   \n",
       "4  The D66 dream becomes reality: COVID-19 super ...                0.0   \n",
       "\n",
       "   subjective_pattern binned_sentiment binned_sentiment_labels  \\\n",
       "0                 0.0      (-0.1, 0.0]                       2   \n",
       "1                 0.0      (-0.1, 0.0]                       2   \n",
       "2                 0.0      (-0.1, 0.0]                       2   \n",
       "3                 0.0      (-0.1, 0.0]                       2   \n",
       "4                 0.0      (-0.1, 0.0]                       2   \n",
       "\n",
       "                                      processed_text  \n",
       "0  [pardon, wollt, zitieren, eigentlich, mein, me...  \n",
       "1  [aviat, demand, reduc, airlin, forc, avoid, lose]  \n",
       "2                    [dream, super, lethal, elderli]  \n",
       "3                    [dream, super, lethal, elderli]  \n",
       "4             [dream, becom, super, deadli, elderli]  "
      ]
     },
     "execution_count": 37,
     "metadata": {},
     "output_type": "execute_result"
    }
   ],
   "source": [
    "data_new.head()"
   ]
  },
  {
   "cell_type": "code",
   "execution_count": 38,
   "metadata": {},
   "outputs": [],
   "source": [
    "#creating the vocabulary based on word popularity across all tweets\n",
    "vocab = Counter()\n",
    "for i in data_new['processed_text']: \n",
    "    vocab.update(i)\n",
    "# print(len(vocab))\n",
    "# print(vocab.most_common(50))"
   ]
  },
  {
   "cell_type": "markdown",
   "metadata": {},
   "source": [
    "## EDA"
   ]
  },
  {
   "cell_type": "code",
   "execution_count": 39,
   "metadata": {},
   "outputs": [
    {
     "data": {
      "text/plain": [
       "<Figure size 1200x1200 with 0 Axes>"
      ]
     },
     "execution_count": 39,
     "metadata": {},
     "output_type": "execute_result"
    },
    {
     "data": {
      "text/plain": [
       "<Figure size 1200x1200 with 0 Axes>"
      ]
     },
     "metadata": {},
     "output_type": "display_data"
    }
   ],
   "source": [
    "#initialize figure size and colors\n",
    "from matplotlib.pyplot import figure\n",
    "figure(num=None, figsize=(15, 15), dpi=80, facecolor='w', edgecolor='k')\n",
    "# sea.countplot(data['province'])"
   ]
  },
  {
   "cell_type": "code",
   "execution_count": 40,
   "metadata": {},
   "outputs": [
    {
     "data": {
      "text/plain": [
       "<matplotlib.axes._subplots.AxesSubplot at 0x7fde9d0332d0>"
      ]
     },
     "execution_count": 40,
     "metadata": {},
     "output_type": "execute_result"
    },
    {
     "data": {
      "image/png": "[encoded data removed]",
      "text/plain": [
       "<Figure size 2400x400 with 1 Axes>"
      ]
     },
     "metadata": {},
     "output_type": "display_data"
    }
   ],
   "source": [
    "figure(num=None, figsize=(30, 5), dpi=80, facecolor='w', edgecolor='k')\n",
    "sea.countplot(x = data_new['binned_sentiment'])"
   ]
  },
  {
   "cell_type": "code",
   "execution_count": 41,
   "metadata": {},
   "outputs": [
    {
     "data": {
      "text/plain": [
       "<seaborn.axisgrid.FacetGrid at 0x7fde9e0d0510>"
      ]
     },
     "execution_count": 41,
     "metadata": {},
     "output_type": "execute_result"
    },
    {
     "data": {
      "image/png": "[encoded data removed]",
      "text/plain": [
       "<Figure size 504x504 with 1 Axes>"
      ]
     },
     "metadata": {
      "needs_background": "light"
     },
     "output_type": "display_data"
    }
   ],
   "source": [
    "sea.displot(data_new, x='sentiment_pattern', binwidth=0.025, height = 7)"
   ]
  },
  {
   "cell_type": "code",
   "execution_count": 42,
   "metadata": {},
   "outputs": [],
   "source": [
    "# data_use[data_use[\"sentiment_pattern\"] >= 1.0]['processed_text']"
   ]
  },
  {
   "cell_type": "code",
   "execution_count": 43,
   "metadata": {},
   "outputs": [],
   "source": [
    "positive_vocab = Counter()\n",
    "for i in data_new[data_new[\"sentiment_pattern\"] > 0]['processed_text']: \n",
    "    positive_vocab.update(i)"
   ]
  },
  {
   "cell_type": "code",
   "execution_count": 44,
   "metadata": {},
   "outputs": [],
   "source": [
    "negative_vocab = Counter()\n",
    "for i in data_new[data_new[\"sentiment_pattern\"] < 0]['processed_text']: \n",
    "    negative_vocab.update(i)"
   ]
  },
  {
   "cell_type": "code",
   "execution_count": 45,
   "metadata": {},
   "outputs": [
    {
     "name": "stdout",
     "output_type": "stream",
     "text": [
      "93647\n",
      "60048\n"
     ]
    }
   ],
   "source": [
    "#num positive tweets\n",
    "print(data_new[data_new[\"sentiment_pattern\"] > 0].shape[0])\n",
    "#num negative tweets\n",
    "print(data_new[data_new[\"sentiment_pattern\"] < 0].shape[0])"
   ]
  },
  {
   "cell_type": "code",
   "execution_count": 46,
   "metadata": {},
   "outputs": [
    {
     "data": {
      "text/html": [
       "<div>\n",
       "<style scoped>\n",
       "    .dataframe tbody tr th:only-of-type {\n",
       "        vertical-align: middle;\n",
       "    }\n",
       "\n",
       "    .dataframe tbody tr th {\n",
       "        vertical-align: top;\n",
       "    }\n",
       "\n",
       "    .dataframe thead th {\n",
       "        text-align: right;\n",
       "    }\n",
       "</style>\n",
       "<table border=\"1\" class=\"dataframe\">\n",
       "  <thead>\n",
       "    <tr style=\"text-align: right;\">\n",
       "      <th></th>\n",
       "      <th>WORD</th>\n",
       "      <th>FREQUENCY</th>\n",
       "      <th>PERCENTAGE_TOTAL</th>\n",
       "    </tr>\n",
       "  </thead>\n",
       "  <tbody>\n",
       "    <tr>\n",
       "      <td>0</td>\n",
       "      <td>corona</td>\n",
       "      <td>14777</td>\n",
       "      <td>0.246086</td>\n",
       "    </tr>\n",
       "    <tr>\n",
       "      <td>1</td>\n",
       "      <td>peopl</td>\n",
       "      <td>7116</td>\n",
       "      <td>0.118505</td>\n",
       "    </tr>\n",
       "    <tr>\n",
       "      <td>2</td>\n",
       "      <td>infect</td>\n",
       "      <td>4454</td>\n",
       "      <td>0.074174</td>\n",
       "    </tr>\n",
       "    <tr>\n",
       "      <td>3</td>\n",
       "      <td>coronaviru</td>\n",
       "      <td>4135</td>\n",
       "      <td>0.068862</td>\n",
       "    </tr>\n",
       "    <tr>\n",
       "      <td>4</td>\n",
       "      <td>still</td>\n",
       "      <td>2967</td>\n",
       "      <td>0.049410</td>\n",
       "    </tr>\n",
       "    <tr>\n",
       "      <td>...</td>\n",
       "      <td>...</td>\n",
       "      <td>...</td>\n",
       "      <td>...</td>\n",
       "    </tr>\n",
       "    <tr>\n",
       "      <td>95</td>\n",
       "      <td>caus</td>\n",
       "      <td>570</td>\n",
       "      <td>0.009492</td>\n",
       "    </tr>\n",
       "    <tr>\n",
       "      <td>96</td>\n",
       "      <td>believ</td>\n",
       "      <td>565</td>\n",
       "      <td>0.009409</td>\n",
       "    </tr>\n",
       "    <tr>\n",
       "      <td>97</td>\n",
       "      <td>concern</td>\n",
       "      <td>564</td>\n",
       "      <td>0.009392</td>\n",
       "    </tr>\n",
       "    <tr>\n",
       "      <td>98</td>\n",
       "      <td>almost</td>\n",
       "      <td>562</td>\n",
       "      <td>0.009359</td>\n",
       "    </tr>\n",
       "    <tr>\n",
       "      <td>99</td>\n",
       "      <td>develop</td>\n",
       "      <td>561</td>\n",
       "      <td>0.009343</td>\n",
       "    </tr>\n",
       "  </tbody>\n",
       "</table>\n",
       "<p>100 rows × 3 columns</p>\n",
       "</div>"
      ],
      "text/plain": [
       "          WORD  FREQUENCY  PERCENTAGE_TOTAL\n",
       "0       corona      14777          0.246086\n",
       "1        peopl       7116          0.118505\n",
       "2       infect       4454          0.074174\n",
       "3   coronaviru       4135          0.068862\n",
       "4        still       2967          0.049410\n",
       "..         ...        ...               ...\n",
       "95        caus        570          0.009492\n",
       "96      believ        565          0.009409\n",
       "97     concern        564          0.009392\n",
       "98      almost        562          0.009359\n",
       "99     develop        561          0.009343\n",
       "\n",
       "[100 rows x 3 columns]"
      ]
     },
     "execution_count": 46,
     "metadata": {},
     "output_type": "execute_result"
    }
   ],
   "source": [
    "positive_vocab.most_common(20)\n",
    "df_pos = pd.DataFrame(positive_vocab.most_common(100),columns = ['WORD','FREQUENCY'])\n",
    "df_neg = pd.DataFrame(negative_vocab.most_common(100),columns = ['WORD','FREQUENCY'])\n",
    "df_dirty = pd.DataFrame(dirty_vocab.most_common(100),columns = ['WORD','FREQUENCY'])\n",
    "\n",
    "df_neg['PERCENTAGE_TOTAL'] = df_neg['FREQUENCY']/60048\n",
    "df_neg"
   ]
  },
  {
   "cell_type": "code",
   "execution_count": 47,
   "metadata": {},
   "outputs": [
    {
     "data": {
      "text/html": [
       "<div>\n",
       "<style scoped>\n",
       "    .dataframe tbody tr th:only-of-type {\n",
       "        vertical-align: middle;\n",
       "    }\n",
       "\n",
       "    .dataframe tbody tr th {\n",
       "        vertical-align: top;\n",
       "    }\n",
       "\n",
       "    .dataframe thead th {\n",
       "        text-align: right;\n",
       "    }\n",
       "</style>\n",
       "<table border=\"1\" class=\"dataframe\">\n",
       "  <thead>\n",
       "    <tr style=\"text-align: right;\">\n",
       "      <th></th>\n",
       "      <th>WORD</th>\n",
       "      <th>FREQUENCY</th>\n",
       "      <th>PERCENTAGE_TOTAL</th>\n",
       "    </tr>\n",
       "  </thead>\n",
       "  <tbody>\n",
       "    <tr>\n",
       "      <td>0</td>\n",
       "      <td>corona</td>\n",
       "      <td>21578</td>\n",
       "      <td>0.230418</td>\n",
       "    </tr>\n",
       "    <tr>\n",
       "      <td>1</td>\n",
       "      <td>peopl</td>\n",
       "      <td>8343</td>\n",
       "      <td>0.089090</td>\n",
       "    </tr>\n",
       "    <tr>\n",
       "      <td>2</td>\n",
       "      <td>coronaviru</td>\n",
       "      <td>5209</td>\n",
       "      <td>0.055624</td>\n",
       "    </tr>\n",
       "    <tr>\n",
       "      <td>3</td>\n",
       "      <td>still</td>\n",
       "      <td>4127</td>\n",
       "      <td>0.044070</td>\n",
       "    </tr>\n",
       "    <tr>\n",
       "      <td>4</td>\n",
       "      <td>realli</td>\n",
       "      <td>3529</td>\n",
       "      <td>0.037684</td>\n",
       "    </tr>\n",
       "    <tr>\n",
       "      <td>...</td>\n",
       "      <td>...</td>\n",
       "      <td>...</td>\n",
       "      <td>...</td>\n",
       "    </tr>\n",
       "    <tr>\n",
       "      <td>95</td>\n",
       "      <td>around</td>\n",
       "      <td>894</td>\n",
       "      <td>0.009546</td>\n",
       "    </tr>\n",
       "    <tr>\n",
       "      <td>96</td>\n",
       "      <td>show</td>\n",
       "      <td>889</td>\n",
       "      <td>0.009493</td>\n",
       "    </tr>\n",
       "    <tr>\n",
       "      <td>97</td>\n",
       "      <td>beauti</td>\n",
       "      <td>888</td>\n",
       "      <td>0.009482</td>\n",
       "    </tr>\n",
       "    <tr>\n",
       "      <td>98</td>\n",
       "      <td>current</td>\n",
       "      <td>886</td>\n",
       "      <td>0.009461</td>\n",
       "    </tr>\n",
       "    <tr>\n",
       "      <td>99</td>\n",
       "      <td>addit</td>\n",
       "      <td>880</td>\n",
       "      <td>0.009397</td>\n",
       "    </tr>\n",
       "  </tbody>\n",
       "</table>\n",
       "<p>100 rows × 3 columns</p>\n",
       "</div>"
      ],
      "text/plain": [
       "          WORD  FREQUENCY  PERCENTAGE_TOTAL\n",
       "0       corona      21578          0.230418\n",
       "1        peopl       8343          0.089090\n",
       "2   coronaviru       5209          0.055624\n",
       "3        still       4127          0.044070\n",
       "4       realli       3529          0.037684\n",
       "..         ...        ...               ...\n",
       "95      around        894          0.009546\n",
       "96        show        889          0.009493\n",
       "97      beauti        888          0.009482\n",
       "98     current        886          0.009461\n",
       "99       addit        880          0.009397\n",
       "\n",
       "[100 rows x 3 columns]"
      ]
     },
     "execution_count": 47,
     "metadata": {},
     "output_type": "execute_result"
    }
   ],
   "source": [
    "df_pos['PERCENTAGE_TOTAL'] = df_pos['FREQUENCY']/93647\n",
    "df_pos"
   ]
  },
  {
   "cell_type": "code",
   "execution_count": 48,
   "metadata": {},
   "outputs": [
    {
     "data": {
      "text/html": [
       "<div>\n",
       "<style scoped>\n",
       "    .dataframe tbody tr th:only-of-type {\n",
       "        vertical-align: middle;\n",
       "    }\n",
       "\n",
       "    .dataframe tbody tr th {\n",
       "        vertical-align: top;\n",
       "    }\n",
       "\n",
       "    .dataframe thead th {\n",
       "        text-align: right;\n",
       "    }\n",
       "</style>\n",
       "<table border=\"1\" class=\"dataframe\">\n",
       "  <thead>\n",
       "    <tr style=\"text-align: right;\">\n",
       "      <th></th>\n",
       "      <th>WORD</th>\n",
       "      <th>FREQUENCY</th>\n",
       "    </tr>\n",
       "  </thead>\n",
       "  <tbody>\n",
       "    <tr>\n",
       "      <td>0</td>\n",
       "      <td>corona</td>\n",
       "      <td>57514</td>\n",
       "    </tr>\n",
       "    <tr>\n",
       "      <td>1</td>\n",
       "      <td>people</td>\n",
       "      <td>21702</td>\n",
       "    </tr>\n",
       "    <tr>\n",
       "      <td>2</td>\n",
       "      <td>coronavirus</td>\n",
       "      <td>19282</td>\n",
       "    </tr>\n",
       "    <tr>\n",
       "      <td>3</td>\n",
       "      <td>still</td>\n",
       "      <td>9992</td>\n",
       "    </tr>\n",
       "    <tr>\n",
       "      <td>4</td>\n",
       "      <td>virus</td>\n",
       "      <td>8941</td>\n",
       "    </tr>\n",
       "    <tr>\n",
       "      <td>...</td>\n",
       "      <td>...</td>\n",
       "      <td>...</td>\n",
       "    </tr>\n",
       "    <tr>\n",
       "      <td>95</td>\n",
       "      <td>close</td>\n",
       "      <td>1701</td>\n",
       "    </tr>\n",
       "    <tr>\n",
       "      <td>96</td>\n",
       "      <td>infection</td>\n",
       "      <td>1695</td>\n",
       "    </tr>\n",
       "    <tr>\n",
       "      <td>97</td>\n",
       "      <td>together</td>\n",
       "      <td>1687</td>\n",
       "    </tr>\n",
       "    <tr>\n",
       "      <td>98</td>\n",
       "      <td>total</td>\n",
       "      <td>1667</td>\n",
       "    </tr>\n",
       "    <tr>\n",
       "      <td>99</td>\n",
       "      <td>believe</td>\n",
       "      <td>1664</td>\n",
       "    </tr>\n",
       "  </tbody>\n",
       "</table>\n",
       "<p>100 rows × 2 columns</p>\n",
       "</div>"
      ],
      "text/plain": [
       "           WORD  FREQUENCY\n",
       "0        corona      57514\n",
       "1        people      21702\n",
       "2   coronavirus      19282\n",
       "3         still       9992\n",
       "4         virus       8941\n",
       "..          ...        ...\n",
       "95        close       1701\n",
       "96    infection       1695\n",
       "97     together       1687\n",
       "98        total       1667\n",
       "99      believe       1664\n",
       "\n",
       "[100 rows x 2 columns]"
      ]
     },
     "execution_count": 48,
     "metadata": {},
     "output_type": "execute_result"
    }
   ],
   "source": [
    "df_dirty"
   ]
  },
  {
   "cell_type": "code",
   "execution_count": 49,
   "metadata": {},
   "outputs": [
    {
     "name": "stdout",
     "output_type": "stream",
     "text": [
      "sad 0\n",
      "depressed 21\n",
      "worried 344\n",
      "scared 138\n",
      "afraid 770\n",
      "nervous 27\n",
      "anxious 90\n",
      "depression 44\n",
      "anxiety 163\n",
      "angry 396\n",
      "trauma 29\n",
      "ill 0\n",
      "sick 0\n",
      "chronic 169\n",
      "abuse 341\n",
      "tired 361\n",
      "lonely 84\n",
      "despair 11\n",
      "illness 168\n",
      "sickness 20\n",
      "pain 0\n",
      "painful 102\n",
      "crisis 4085\n",
      "disaster 336\n"
     ]
    }
   ],
   "source": [
    "#evaluating popularity of words indicating depressive tendencies\n",
    "depression_indicator_words = ['sad', 'depressed', 'worried', 'scared',\n",
    "                              'afraid', 'nervous', 'anxious', 'depression',\n",
    "                              'anxiety', 'angry', 'trauma', 'ill', 'sick', \n",
    "                              'chronic', 'abuse', 'tired', 'lonely', 'despair',\n",
    "                              'illness', 'sickness', 'pain', 'painful', 'crisis',\n",
    "                              'disaster']\n",
    "for i in depression_indicator_words: \n",
    "    print(i, dirty_vocab[i])"
   ]
  },
  {
   "cell_type": "code",
   "execution_count": 50,
   "metadata": {},
   "outputs": [
    {
     "name": "stdout",
     "output_type": "stream",
     "text": [
      "sad 16\n",
      "depressed 0\n",
      "worried 0\n",
      "scared 0\n",
      "afraid 559\n",
      "nervous 3\n",
      "anxious 6\n",
      "depression 0\n",
      "anxiety 0\n",
      "angry 0\n",
      "trauma 3\n",
      "ill 57\n",
      "sick 4\n",
      "chronic 186\n",
      "abuse 0\n",
      "tired 0\n",
      "lonely 0\n",
      "despair 0\n",
      "illness 0\n",
      "sickness 0\n",
      "pain 72\n",
      "painful 0\n",
      "crisis 0\n",
      "disaster 0\n"
     ]
    }
   ],
   "source": [
    "for i in depression_indicator_words: \n",
    "    print(i, negative_vocab[i])"
   ]
  },
  {
   "cell_type": "code",
   "execution_count": 51,
   "metadata": {},
   "outputs": [
    {
     "name": "stdout",
     "output_type": "stream",
     "text": [
      "sad 12\n",
      "depressed 0\n",
      "worried 0\n",
      "scared 0\n",
      "afraid 151\n",
      "nervous 2\n",
      "anxious 0\n",
      "depression 0\n",
      "anxiety 0\n",
      "angry 0\n",
      "trauma 14\n",
      "ill 100\n",
      "sick 11\n",
      "chronic 42\n",
      "abuse 0\n",
      "tired 0\n",
      "lonely 0\n",
      "despair 2\n",
      "illness 0\n",
      "sickness 0\n",
      "pain 70\n",
      "painful 0\n",
      "crisis 0\n",
      "disaster 0\n"
     ]
    }
   ],
   "source": [
    "for i in depression_indicator_words: \n",
    "    print(i, positive_vocab[i])"
   ]
  },
  {
   "cell_type": "code",
   "execution_count": 52,
   "metadata": {},
   "outputs": [
    {
     "data": {
      "text/plain": [
       "<matplotlib.axes._subplots.AxesSubplot at 0x7fdeeadd3190>"
      ]
     },
     "execution_count": 52,
     "metadata": {},
     "output_type": "execute_result"
    },
    {
     "data": {
      "image/png": "[encoded data removed]",
      "text/plain": [
       "<Figure size 3200x400 with 1 Axes>"
      ]
     },
     "metadata": {},
     "output_type": "display_data"
    }
   ],
   "source": [
    "figure(num=None, figsize=(40, 5), dpi=80, facecolor='w', edgecolor='k')\n",
    "sea.barplot(x = get_keys(negative_vocab.most_common(50)), y = get_vals(negative_vocab.most_common(50)))"
   ]
  },
  {
   "cell_type": "code",
   "execution_count": 53,
   "metadata": {},
   "outputs": [
    {
     "data": {
      "text/plain": [
       "<matplotlib.axes._subplots.AxesSubplot at 0x7fde9de8ead0>"
      ]
     },
     "execution_count": 53,
     "metadata": {},
     "output_type": "execute_result"
    },
    {
     "data": {
      "image/png": "[encoded data removed]",
      "text/plain": [
       "<Figure size 3200x400 with 1 Axes>"
      ]
     },
     "metadata": {},
     "output_type": "display_data"
    }
   ],
   "source": [
    "figure(num=None, figsize=(40, 5), dpi=80, facecolor='w', edgecolor='k')\n",
    "sea.barplot(x = get_keys(positive_vocab.most_common(50)), y = get_vals(positive_vocab.most_common(50)))"
   ]
  },
  {
   "cell_type": "markdown",
   "metadata": {},
   "source": [
    "## Classification \n",
    "Labels will be the sentiment_pattern from -1,1 generated by \"pattern\" package in python. "
   ]
  },
  {
   "cell_type": "code",
   "execution_count": 54,
   "metadata": {},
   "outputs": [],
   "source": [
    "labels = data_new['binned_sentiment_labels']\n",
    "#generate the train-test split\n",
    "train_docs = data_new['processed_text']\n",
    "train_labels = to_categorical(labels)\n",
    "X_train, X_test, y_train, y_test = train_test_split(train_docs, train_labels, test_size=0.25, random_state=42)"
   ]
  },
  {
   "cell_type": "code",
   "execution_count": 55,
   "metadata": {},
   "outputs": [
    {
     "name": "stdout",
     "output_type": "stream",
     "text": [
      "Vocabulary size: 40070\n",
      "Maximum length: 29\n"
     ]
    }
   ],
   "source": [
    "#create our tokenizer\n",
    "tokenizer = create_tokenizer(X_train)\n",
    "# define vocabulary size\n",
    "vocab_size = len(tokenizer.word_index) + 1\n",
    "print('Vocabulary size: %d' % vocab_size)\n",
    "# calculate the maximum sequence length\n",
    "max_length = 29\n",
    "print('Maximum length: %d' % max_length)"
   ]
  },
  {
   "cell_type": "code",
   "execution_count": 56,
   "metadata": {},
   "outputs": [],
   "source": [
    "def encode_docs(tokenizer, max_length, docs): \n",
    "    # integer encode\n",
    "    encoded = tokenizer.texts_to_sequences(docs) \n",
    "    # pad sequences\n",
    "    print(len(encoded))\n",
    "    padded = pad_sequences(encoded, maxlen=max_length, padding='post') \n",
    "    print(padded.shape)\n",
    "    return padded"
   ]
  },
  {
   "cell_type": "code",
   "execution_count": 57,
   "metadata": {},
   "outputs": [
    {
     "name": "stdout",
     "output_type": "stream",
     "text": [
      "202990\n",
      "(202990, 29)\n",
      "67664\n",
      "(67664, 29)\n"
     ]
    }
   ],
   "source": [
    "# encode data (basically this is adding padding to each vector)\n",
    "Xtrain = encode_docs(tokenizer, max_length, X_train) \n",
    "# Xtrain = np.reshape(Xtrain, (len(Xtrain), max_length, embedding_dims))\n",
    "Xtest = encode_docs(tokenizer, max_length, X_test) \n",
    "# print(Xtrain)"
   ]
  },
  {
   "cell_type": "code",
   "execution_count": 58,
   "metadata": {},
   "outputs": [
    {
     "name": "stdout",
     "output_type": "stream",
     "text": [
      "(202990, 29)\n",
      "(202990, 29, 1)\n",
      "(67664, 29)\n",
      "(67664, 29, 1)\n",
      "(202990, 5)\n",
      "(67664, 5)\n"
     ]
    }
   ],
   "source": [
    "print(Xtrain.shape)\n",
    "Xtrain = np.reshape(Xtrain, Xtrain.shape + (1,))\n",
    "print(Xtrain.shape)\n",
    "print(Xtest.shape)\n",
    "Xtest = np.reshape(Xtest, Xtest.shape + (1,))\n",
    "print(Xtest.shape)\n",
    "print(y_train.shape)\n",
    "print(y_test.shape)"
   ]
  },
  {
   "cell_type": "code",
   "execution_count": 71,
   "metadata": {},
   "outputs": [],
   "source": [
    "num_epochs = 20\n",
    "\n",
    "# model_variations = [['RNN', 'rmsprop', 0.2, 'categorical_crossentropy', 'mod1', num_bins], \n",
    "#                    ['RNN', 'adam', 0.2, 'categorical_crossentropy', 'mod2', num_bins], \n",
    "#                    ['RNN', 'rmsprop', 0.1, 'categorical_crossentropy', 'mod3', num_bins], \n",
    "#                    ['RNN', 'adam', 0.2, 'categorical_crossentropy', 'mod4', num_bins], \n",
    "#                    ['LSTM', 'rmsprop', 0.2, 'categorical_crossentropy', 'mod5', num_bins], \n",
    "#                    ['LSTM', 'rmsprop', 0.1, 'categorical_crossentropy', 'mod6', num_bins]]\n",
    "\n",
    "model_variations = [['LSTM', 'rmsprop', 0.4, 'categorical_crossentropy', 'mod6', num_bins]]\n",
    "\n",
    "#instantiation of results database to keep track of all results\n",
    "res = {'Model_type': [''], 'Num_epochs':[0], 'Optimizer':['na'], 'Dropout':[0], 'Loss_func':['na'], \n",
    "           'Number_bins':[0], 'Training_acc':[0], 'Validation_acc':[0]}\n",
    "results_df = pd.DataFrame(res)\n",
    "\n",
    "def model_tuning(model_variations, results_df): \n",
    "    for i in model_variations: \n",
    "        if i[0] == 'RNN': \n",
    "            model = define_rnn(vocab_size, max_length, i[1], drop_percent = i[2], loss_func = i[3], model_name = i[4], num_bins = i[5])\n",
    "        else:\n",
    "            model = define_lstm(vocab_size, max_length, i[1], drop_percent = i[2], loss_func = i[3], model_name = i[4], num_bins = i[5])\n",
    "        model.fit(Xtrain, y_train, batch_size = batch_size, epochs=num_epochs, verbose=2, validation_data = (Xtest, y_test))\n",
    "        history_dict1 = model.history.history\n",
    "        results_df = results_df.append({'Model_type': i[0], 'Num_epochs':num_epochs, 'Optimizer':i[1], 'Dropout':i[2],\n",
    "                                    'Loss_func':'categorical_crossentropy', 'Number_bins':num_bins, 'Training_acc':history_dict1['acc'][-1], 'Validation_acc':history_dict1['val_acc'][-1]}, \n",
    "                                   ignore_index = True)\n",
    "    return results_df, model\n",
    "        "
   ]
  },
  {
   "cell_type": "code",
   "execution_count": 72,
   "metadata": {},
   "outputs": [
    {
     "name": "stdout",
     "output_type": "stream",
     "text": [
      "Model: \"sequential_8\"\n",
      "_________________________________________________________________\n",
      "Layer (type)                 Output Shape              Param #   \n",
      "=================================================================\n",
      "lstm_3 (LSTM)                (None, 29, 20)            1760      \n",
      "_________________________________________________________________\n",
      "dropout_8 (Dropout)          (None, 29, 20)            0         \n",
      "_________________________________________________________________\n",
      "flatten_8 (Flatten)          (None, 580)               0         \n",
      "_________________________________________________________________\n",
      "dense_8 (Dense)              (None, 5)                 2905      \n",
      "=================================================================\n",
      "Total params: 4,665\n",
      "Trainable params: 4,665\n",
      "Non-trainable params: 0\n",
      "_________________________________________________________________\n",
      "Train on 202990 samples, validate on 67664 samples\n",
      "Epoch 1/20\n",
      "202990/202990 - 139s - loss: 0.9887 - acc: 0.6965 - val_loss: 0.9734 - val_acc: 0.6979\n",
      "Epoch 2/20\n",
      "202990/202990 - 136s - loss: 0.9857 - acc: 0.6967 - val_loss: 0.9884 - val_acc: 0.6975\n",
      "Epoch 3/20\n",
      "202990/202990 - 137s - loss: 0.9840 - acc: 0.6967 - val_loss: 0.9737 - val_acc: 0.6979\n",
      "Epoch 4/20\n",
      "202990/202990 - 144s - loss: 0.9823 - acc: 0.6967 - val_loss: 0.9734 - val_acc: 0.6979\n",
      "Epoch 5/20\n",
      "202990/202990 - 141s - loss: 0.9826 - acc: 0.6967 - val_loss: 0.9745 - val_acc: 0.6980\n",
      "Epoch 6/20\n",
      "202990/202990 - 143s - loss: 0.9830 - acc: 0.6967 - val_loss: 0.9771 - val_acc: 0.6979\n",
      "Epoch 7/20\n",
      "202990/202990 - 134s - loss: 0.9824 - acc: 0.6968 - val_loss: 0.9717 - val_acc: 0.6979\n",
      "Epoch 8/20\n",
      "202990/202990 - 145s - loss: 0.9824 - acc: 0.6968 - val_loss: 0.9722 - val_acc: 0.6979\n",
      "Epoch 9/20\n",
      "202990/202990 - 138s - loss: 0.9857 - acc: 0.6965 - val_loss: 0.9752 - val_acc: 0.6979\n",
      "Epoch 10/20\n",
      "202990/202990 - 138s - loss: 0.9891 - acc: 0.6964 - val_loss: 0.9726 - val_acc: 0.6979\n",
      "Epoch 11/20\n",
      "202990/202990 - 139s - loss: 0.9904 - acc: 0.6963 - val_loss: 0.9743 - val_acc: 0.6979\n",
      "Epoch 12/20\n",
      "202990/202990 - 139s - loss: 0.9945 - acc: 0.6963 - val_loss: 0.9721 - val_acc: 0.6981\n",
      "Epoch 13/20\n",
      "202990/202990 - 140s - loss: 1.0023 - acc: 0.6960 - val_loss: 0.9716 - val_acc: 0.6979\n",
      "Epoch 14/20\n",
      "202990/202990 - 141s - loss: 1.0147 - acc: 0.6956 - val_loss: 0.9739 - val_acc: 0.6979\n",
      "Epoch 15/20\n",
      "202990/202990 - 139s - loss: 1.0093 - acc: 0.6954 - val_loss: 0.9723 - val_acc: 0.6979\n",
      "Epoch 16/20\n",
      "202990/202990 - 140s - loss: 1.0007 - acc: 0.6958 - val_loss: 0.9736 - val_acc: 0.6979\n",
      "Epoch 17/20\n",
      "202990/202990 - 140s - loss: 0.9921 - acc: 0.6960 - val_loss: 0.9736 - val_acc: 0.6981\n",
      "Epoch 18/20\n",
      "202990/202990 - 140s - loss: 0.9936 - acc: 0.6960 - val_loss: 0.9722 - val_acc: 0.6979\n",
      "Epoch 19/20\n",
      "202990/202990 - 142s - loss: 0.9897 - acc: 0.6964 - val_loss: 0.9709 - val_acc: 0.6980\n",
      "Epoch 20/20\n",
      "202990/202990 - 142s - loss: 0.9986 - acc: 0.6962 - val_loss: 0.9712 - val_acc: 0.6979\n"
     ]
    }
   ],
   "source": [
    "results_df, model = model_tuning(model_variations, results_df)"
   ]
  },
  {
   "cell_type": "code",
   "execution_count": 64,
   "metadata": {},
   "outputs": [],
   "source": [
    "# results_df = results_df.append({'Num_epochs':num_epochs, 'Optimizer':'rmsprop', 'Dropout':0.2,\n",
    "#                                     'Loss_func':'categorical_crossentropy', 'Number_bins':num_bins, 'Training_acc':[0], 'Validation_acc':[0]}, \n",
    "#                                    ignore_index = True)\n",
    "# # define model\n",
    "# model = define_lstm(vocab_size, max_length, 'rmsprop', drop_percent = 0.2, loss_func = 'categorical_crossentropy', model_name = 'mod1', num_bins = num_bins)\n",
    "# # fit network\n",
    "# model.fit(Xtrain, y_train, batch_size = batch_size, epochs=num_epochs, verbose=2, validation_data = (Xtest, y_test))\n",
    "# # save the model\n",
    "# # model.save('model.h5')"
   ]
  },
  {
   "cell_type": "code",
   "execution_count": 73,
   "metadata": {},
   "outputs": [
    {
     "data": {
      "text/html": [
       "<div>\n",
       "<style scoped>\n",
       "    .dataframe tbody tr th:only-of-type {\n",
       "        vertical-align: middle;\n",
       "    }\n",
       "\n",
       "    .dataframe tbody tr th {\n",
       "        vertical-align: top;\n",
       "    }\n",
       "\n",
       "    .dataframe thead th {\n",
       "        text-align: right;\n",
       "    }\n",
       "</style>\n",
       "<table border=\"1\" class=\"dataframe\">\n",
       "  <thead>\n",
       "    <tr style=\"text-align: right;\">\n",
       "      <th></th>\n",
       "      <th>Model_type</th>\n",
       "      <th>Num_epochs</th>\n",
       "      <th>Optimizer</th>\n",
       "      <th>Dropout</th>\n",
       "      <th>Loss_func</th>\n",
       "      <th>Number_bins</th>\n",
       "      <th>Training_acc</th>\n",
       "      <th>Validation_acc</th>\n",
       "    </tr>\n",
       "  </thead>\n",
       "  <tbody>\n",
       "    <tr>\n",
       "      <td>0</td>\n",
       "      <td></td>\n",
       "      <td>0</td>\n",
       "      <td>na</td>\n",
       "      <td>0.0</td>\n",
       "      <td>na</td>\n",
       "      <td>0</td>\n",
       "      <td>0.000000</td>\n",
       "      <td>0.00000</td>\n",
       "    </tr>\n",
       "    <tr>\n",
       "      <td>1</td>\n",
       "      <td>LSTM</td>\n",
       "      <td>20</td>\n",
       "      <td>rmsprop</td>\n",
       "      <td>0.4</td>\n",
       "      <td>categorical_crossentropy</td>\n",
       "      <td>5</td>\n",
       "      <td>0.696226</td>\n",
       "      <td>0.69789</td>\n",
       "    </tr>\n",
       "  </tbody>\n",
       "</table>\n",
       "</div>"
      ],
      "text/plain": [
       "  Model_type  Num_epochs Optimizer  Dropout                 Loss_func  \\\n",
       "0                      0        na      0.0                        na   \n",
       "1       LSTM          20   rmsprop      0.4  categorical_crossentropy   \n",
       "\n",
       "   Number_bins  Training_acc  Validation_acc  \n",
       "0            0      0.000000         0.00000  \n",
       "1            5      0.696226         0.69789  "
      ]
     },
     "execution_count": 73,
     "metadata": {},
     "output_type": "execute_result"
    }
   ],
   "source": [
    "# model.history\n",
    "results_df"
   ]
  },
  {
   "cell_type": "code",
   "execution_count": 74,
   "metadata": {},
   "outputs": [
    {
     "data": {
      "text/plain": [
       "dict_keys(['loss', 'acc', 'val_loss', 'val_acc'])"
      ]
     },
     "execution_count": 74,
     "metadata": {},
     "output_type": "execute_result"
    }
   ],
   "source": [
    "history_dict1 = model.history.history\n",
    "history_dict1.keys()"
   ]
  },
  {
   "cell_type": "code",
   "execution_count": 75,
   "metadata": {},
   "outputs": [
    {
     "data": {
      "image/png": "[encoded data removed]",
      "text/plain": [
       "<Figure size 432x288 with 1 Axes>"
      ]
     },
     "metadata": {
      "needs_background": "light"
     },
     "output_type": "display_data"
    }
   ],
   "source": [
    "loss1 = plot_loss_metrics(history_dict1, 20, '1')\n",
    "loss1.savefig('model1_loss.png')"
   ]
  },
  {
   "cell_type": "code",
   "execution_count": 76,
   "metadata": {},
   "outputs": [
    {
     "data": {
      "image/png": "[encoded data removed]",
      "text/plain": [
       "<Figure size 432x288 with 1 Axes>"
      ]
     },
     "metadata": {
      "needs_background": "light"
     },
     "output_type": "display_data"
    }
   ],
   "source": [
    "acc1 = plot_acc_metrics(history_dict1, 20, '1')\n",
    "acc1.savefig('model1_acc.png')"
   ]
  },
  {
   "cell_type": "code",
   "execution_count": null,
   "metadata": {},
   "outputs": [],
   "source": [
    "results_df"
   ]
  },
  {
   "cell_type": "code",
   "execution_count": null,
   "metadata": {},
   "outputs": [],
   "source": [
    "# define model\n",
    "model = define_model(vocab_size, max_length, 'adam', drop_percent = 0.1, loss_func = 'categorical_crossentropy', model_name = 'mod2', num_bins = num_bins)\n",
    "# fit network\n",
    "model.fit(Xtrain, y_train, batch_size = batch_size, epochs=num_epochs, verbose=2, validation_data = (Xtest, y_test))\n",
    "# save the model\n",
    "# model.save('model.h5')"
   ]
  },
  {
   "cell_type": "code",
   "execution_count": null,
   "metadata": {},
   "outputs": [],
   "source": [
    "history_dict1 = model.history.history\n",
    "history_dict1.keys()\n",
    "# loss1 = plot_loss_metrics(history_dict1, 20, '1')\n",
    "# loss1.savefig('model1_loss.png')"
   ]
  },
  {
   "cell_type": "code",
   "execution_count": null,
   "metadata": {},
   "outputs": [],
   "source": [
    "results_df = results_df.append({'Num_epochs':num_epochs, 'Optimizer':'adam', 'Dropout':0.1,\n",
    "                                    'Loss_func':'categorical_crossentropy', 'Number_bins':num_bins, 'Training_acc':history_dict1['acc'][-1], 'Validation_acc':history_dict1['val_acc'][-1]}, \n",
    "                                   ignore_index = True)"
   ]
  },
  {
   "cell_type": "code",
   "execution_count": null,
   "metadata": {},
   "outputs": [],
   "source": [
    "acc1 = plot_acc_metrics(history_dict1, 20, '1')\n",
    "acc1.savefig('model1_acc.png')"
   ]
  },
  {
   "cell_type": "code",
   "execution_count": null,
   "metadata": {},
   "outputs": [],
   "source": [
    "results_df"
   ]
  },
  {
   "cell_type": "code",
   "execution_count": null,
   "metadata": {},
   "outputs": [],
   "source": []
  }
 ],
 "metadata": {
  "kernelspec": {
   "display_name": "Python 3",
   "language": "python",
   "name": "python3"
  },
  "language_info": {
   "codemirror_mode": {
    "name": "ipython",
    "version": 3
   },
   "file_extension": ".py",
   "mimetype": "text/x-python",
   "name": "python",
   "nbconvert_exporter": "python",
   "pygments_lexer": "ipython3",
   "version": "3.7.4"
  }
 },
 "nbformat": 4,
 "nbformat_minor": 2
}
